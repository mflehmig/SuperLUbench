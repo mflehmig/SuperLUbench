{
 "cells": [
  {
   "cell_type": "code",
   "execution_count": 5,
   "metadata": {},
   "outputs": [],
   "source": [
    "import pandas as pd\n",
    "import numpy as np\n",
    "# Plots with high resolution\n",
    "import matplotlib as mpl\n",
    "mpl.rcParams['figure.dpi']= 150\n",
    "import matplotlib.ticker as plticker\n",
    "\n",
    "import matplotlib.pyplot as plt"
   ]
  },
  {
   "cell_type": "code",
   "execution_count": 8,
   "metadata": {},
   "outputs": [],
   "source": [
    "def get_slu_mstats(df, runs=11):\n",
    "    \"\"\"\"Compute memory statistics for a DataFrame holding SuperLU results.\n",
    "        Omit first run.\n",
    "\n",
    "    Args:\n",
    "        df (pandas.dataFrame): \n",
    "        runs (int, optional): Number of runs.\n",
    "\n",
    "    Returns:\n",
    "        [Mean over total memory, Mean over LU memory]\n",
    "    \"\"\"\n",
    "    l = 1\n",
    "    u = l+runs-1\n",
    "    return [df['Total MB'][l:u].mean(), df['LU MB'][l:u].mean()]\n",
    "    "
   ]
  },
  {
   "cell_type": "code",
   "execution_count": 9,
   "metadata": {},
   "outputs": [],
   "source": [
    "def get_slu_stats(df, spec, runs=11, l=1):\n",
    "    \"\"\"\"Compute statistics for the columns 'spec' of a DataFrame holding SuperLU results.\n",
    "        Omit first run for every thread.\n",
    "\n",
    "    Args:\n",
    "        df (pandas.dataFrame): \n",
    "        spec (str): Column specifier\n",
    "        runs (int, optional): Number of runs.\n",
    "\n",
    "    Returns:\n",
    "        [Mean runtime, min, max, std deviation]\n",
    "    \"\"\"\n",
    "    ret = []\n",
    "    u = l+runs-1\n",
    "    mean = df[spec][l:u].mean()\n",
    "    mini = df[spec][l:u].min()\n",
    "    maxi = df[spec][l:u].max()\n",
    "    std = df[spec][l:u].std()\n",
    "    return ([mean, mini, maxi, std])"
   ]
  },
  {
   "cell_type": "code",
   "execution_count": 10,
   "metadata": {},
   "outputs": [],
   "source": [
    "def get_slumt_stats(df, spec, runs=11):\n",
    "    \"\"\"Compute statistics for the columns 'spec' of a DataFrame holding SuperLU_MT results.\n",
    "       Omit first run for every thread.\n",
    "\n",
    "    Args:\n",
    "        df (pandas.dataFrame): \n",
    "        spec (str): Column specifier\n",
    "        runs (int, optional): Number of runs.\n",
    "\n",
    "    Returns:\n",
    "        List with number of threads and list with corresponding statistics as list of list.\n",
    "    \"\"\"\n",
    "    threads = []\n",
    "    ret = []\n",
    "    l = 1\n",
    "    for i in range(int(df['#Threads'].min()), int(df['#Threads'].max())+1):\n",
    "        threads.append(i)\n",
    "        ret.append(get_slu_stats(df, spec, runs, l))\n",
    "        # Update l and u\n",
    "        l += runs\n",
    "        \n",
    "    return (threads, ret)"
   ]
  },
  {
   "cell_type": "code",
   "execution_count": 11,
   "metadata": {},
   "outputs": [],
   "source": [
    "def get_speedups(tstats, t1=None):\n",
    "    \"\"\"\"Return speedups for a given list of timing statistics (mean time over #threads).\n",
    "\n",
    "    Args:\n",
    "        tstats (list): Timing statistics\n",
    "        t1 (float, optional): Serial time to refer the speedup to. If not given, we use the runtime using 1 thread.\n",
    "\n",
    "    Returns:\n",
    "        List of speedups.\n",
    "    \"\"\"\n",
    "    sp = []\n",
    "    if t1 is None:\n",
    "        t1 = tstats[0][0] # Time for serial run\n",
    "    # Todo: Check that provided t1 is a numerical value > 0.\n",
    "    for i in [item[0] for item in tstats]:\n",
    "        #print(i)\n",
    "        sp.append(t1/i)\n",
    "    \n",
    "    return sp"
   ]
  },
  {
   "cell_type": "code",
   "execution_count": 12,
   "metadata": {},
   "outputs": [],
   "source": [
    "from operator import itemgetter\n",
    "def get_best_time(list1, list2, list3):\n",
    "    \"\"\" Return min. value and the coresponding index over three lists.\n",
    "        Todo: Pass arbitrary number of lists.... or list(list, list, ...,list)\n",
    "        This is a basic implementation I have to admit. Someone might write it as one-liner.\n",
    "    \"\"\"\n",
    "    # Create list containing (idx1, min_val1), (idx2, min_val2), ...\n",
    "    # Than determine min value and the corresponding index. Than return the corresponding sublist.\n",
    "    l = []\n",
    "    l.append(min(enumerate(map(itemgetter(0), list1)), key=itemgetter(1)))\n",
    "    l.append(min(enumerate(map(itemgetter(0), list2)), key=itemgetter(1)))\n",
    "    l.append(min(enumerate(map(itemgetter(0), list3)), key=itemgetter(1)))\n",
    "    i, j = min(enumerate(map(itemgetter(1), l)), key=itemgetter(1))\n",
    "    return l[i]\n",
    "    "
   ]
  },
  {
   "cell_type": "code",
   "execution_count": 13,
   "metadata": {},
   "outputs": [],
   "source": [
    "def condense_df(df, runs=5):\n",
    "    \"\"\"\"Condense DataFrame in the sense, that it holds the mean run time for a process grid, not the several individual run times.\n",
    "        Omit first run for every process grid configuration.\n",
    "        Assume no empty lines between blocks of fixed grid size.\n",
    "\n",
    "    Args:\n",
    "        df (pandas.dataFrame): \n",
    "        runs (int, optional): Number of runs for a fixed number of threads.\n",
    "\n",
    "    Returns:\n",
    "        DataFrame with mean timings in ms.\n",
    "    \"\"\"\n",
    "    rows = []\n",
    "    l = 1;\n",
    "    u = l+runs-1\n",
    "    for i in range(0,df.shape[0]/runs):\n",
    "        rows.append((df['#MPI Procs'][l], df['nrow'][l], df['ncol'][l], df['pdgssvx_Abglobal'][l:u].mean()/1000))\n",
    "        # Update l and u\n",
    "        l += runs\n",
    "        u = l+runs-1\n",
    "        \n",
    "    cols = ['#MPI Procs', 'nrows', 'ncols', 'time']\n",
    "    return pd.DataFrame.from_records(rows, columns=cols)"
   ]
  },
  {
   "cell_type": "code",
   "execution_count": 14,
   "metadata": {},
   "outputs": [],
   "source": [
    "def get_sludist_best_time(df):\n",
    "    \"\"\"\n",
    "    Returns:\n",
    "        (min time, [mpi procs, nrows, ncols])\n",
    "    \"\"\"\n",
    "    ret = []\n",
    "    t = df['time'].min()\n",
    "    idx = df['time'].idxmin() # Idx of minimal value in column 'time'\n",
    "    nrows = df['nrows'][idx]\n",
    "    ncols = df['ncols'][idx]\n",
    "    mpi = df['#MPI Procs'][idx]\n",
    "    return (t, [mpi, nrows, ncols])\n",
    "    "
   ]
  },
  {
   "cell_type": "markdown",
   "metadata": {},
   "source": [
    "# Benchmark Results and Evaluation"
   ]
  },
  {
   "cell_type": "markdown",
   "metadata": {},
   "source": [
    "See the `README.html` document for what this project is all about. Basically it holds three benchmarks to solve large sparse linear systems of form Ax=b using the libraries SuperLU, SuperLU_MT and SuperLU_DIST.\n",
    "\n",
    "In the following, we analyse and evaluate the obtained results for a set of benchmark problems. We will investigate the metrics time to solution and memory footprint as well as strong scaling behaviour.\n",
    "\n",
    "The benchmarks problem (i.e., the linear systems Ax=b) are obtained from HQP:\n",
    "\n",
    "| Matrix       | Dim    | # Nonzeros |\n",
    "|--------------|--------|------------|\n",
    "| hqp3_60/Full | 31706  | 87706      |\n",
    "| hqp3_60/Sp   | 20682  | 65658      |\n",
    "| hqp3_15/Full | 125666 | 348250     |\n",
    "| hqp3_15/Sp   | 82026  | 260970     |\n",
    "\n",
    "For every benchmark system, the known solution vector $\\hat{x}$ (from HQP), is passed to SuperLUbench. In order to make sure, that the computed result $x$ is correct, the value $\\lVert x-\\hat{x} \\rVert / \\lVert X \\rVert$ is computed using the infinity norm. This values are stored within the csv files in column `Norm`.\n",
    "\n",
    "**Hardware and Software Configuration**\n",
    "* Taurus Haswell Partition (in particular TAURUSI6596)\n",
    "* Modules:\n",
    "   * superlu/5.2.1\n",
    "   * intelmpi/2017.2.174\n",
    "   * superlu_dist/5.1.3\n",
    "   * superlu_mt/3.1\n",
    "   * intel/2017.2.174\n",
    "* --exclusive\n",
    "* No thread pinning, because ...\n",
    "    * it should not make a big differance in results\n",
    "    * end-users don't use it\n",
    "\n",
    "Furthermore:\n",
    "* All runs where repeated R times (e.g., R=11)\n",
    "* Since the first run is in most cases way slower than the other runs, we ignore the first run\n",
    "* This is also called \"warm startup\", beacuse the data structures are allready in memory hierarchies "
   ]
  },
  {
   "cell_type": "markdown",
   "metadata": {},
   "source": [
    "Directory structure holding the csv files with the benchmark statistics."
   ]
  },
  {
   "cell_type": "code",
   "execution_count": 15,
   "metadata": {},
   "outputs": [],
   "source": [
    "dir_60F=\"taurus_haswell/hqp3_60/Full\"\n",
    "dir_15F=\"taurus_haswell/hqp3_15/Full\"\n",
    "dir_60S=\"taurus_haswell/hqp3_60/Sp\"\n",
    "dir_15S=\"taurus_haswell/hqp3_15/Sp\"\n",
    "dir_scheduling_type=\"taurus_haswell/scheduling_type_benchmark\""
   ]
  },
  {
   "cell_type": "markdown",
   "metadata": {},
   "source": [
    "## hqp3_60/Full"
   ]
  },
  {
   "cell_type": "markdown",
   "metadata": {},
   "source": [
    "### SuperLU\n",
    "Read in the benchmark results for **SuperLU** and the various orderings."
   ]
  },
  {
   "cell_type": "code",
   "execution_count": 16,
   "metadata": {},
   "outputs": [],
   "source": [
    "slu_col_60F = pd.read_csv(dir_60F+'/SuperLU_COLAMD.csv',skipinitialspace=True)\n",
    "slu_nat_60F = pd.read_csv(dir_60F+'/SuperLU_NATURAL.csv',skipinitialspace=True)\n",
    "slu_ata_60F = pd.read_csv(dir_60F+'/SuperLU_MMD_ATA.csv',skipinitialspace=True)\n",
    "slu_usa_60F = pd.read_csv(dir_60F+'/SuperLU_MMD_AT_PLUS_A.csv',skipinitialspace=True)"
   ]
  },
  {
   "cell_type": "markdown",
   "metadata": {},
   "source": [
    "The following two methods `head()` and `describe()` are for illustration purposes."
   ]
  },
  {
   "cell_type": "code",
   "execution_count": 17,
   "metadata": {},
   "outputs": [
    {
     "data": {
      "text/html": [
       "<div>\n",
       "<style scoped>\n",
       "    .dataframe tbody tr th:only-of-type {\n",
       "        vertical-align: middle;\n",
       "    }\n",
       "\n",
       "    .dataframe tbody tr th {\n",
       "        vertical-align: top;\n",
       "    }\n",
       "\n",
       "    .dataframe thead th {\n",
       "        text-align: right;\n",
       "    }\n",
       "</style>\n",
       "<table border=\"1\" class=\"dataframe\">\n",
       "  <thead>\n",
       "    <tr style=\"text-align: right;\">\n",
       "      <th></th>\n",
       "      <th>#Iter</th>\n",
       "      <th>info</th>\n",
       "      <th>#NNZ in L</th>\n",
       "      <th>#NNZ in U</th>\n",
       "      <th>LU MB</th>\n",
       "      <th>Total MB</th>\n",
       "      <th>Norm</th>\n",
       "      <th>RPG</th>\n",
       "      <th>RCN</th>\n",
       "      <th>dgssvx</th>\n",
       "    </tr>\n",
       "  </thead>\n",
       "  <tbody>\n",
       "    <tr>\n",
       "      <th>0</th>\n",
       "      <td>0</td>\n",
       "      <td>0</td>\n",
       "      <td>495102</td>\n",
       "      <td>706458</td>\n",
       "      <td>12.966</td>\n",
       "      <td>24.253</td>\n",
       "      <td>9.549530e-09</td>\n",
       "      <td>0.212632</td>\n",
       "      <td>3.707492e-07</td>\n",
       "      <td>287225</td>\n",
       "    </tr>\n",
       "    <tr>\n",
       "      <th>1</th>\n",
       "      <td>1</td>\n",
       "      <td>0</td>\n",
       "      <td>495102</td>\n",
       "      <td>706458</td>\n",
       "      <td>12.966</td>\n",
       "      <td>24.253</td>\n",
       "      <td>9.549530e-09</td>\n",
       "      <td>0.212632</td>\n",
       "      <td>3.707492e-07</td>\n",
       "      <td>213849</td>\n",
       "    </tr>\n",
       "    <tr>\n",
       "      <th>2</th>\n",
       "      <td>2</td>\n",
       "      <td>0</td>\n",
       "      <td>495102</td>\n",
       "      <td>706458</td>\n",
       "      <td>12.966</td>\n",
       "      <td>24.253</td>\n",
       "      <td>9.549530e-09</td>\n",
       "      <td>0.212632</td>\n",
       "      <td>3.707492e-07</td>\n",
       "      <td>210737</td>\n",
       "    </tr>\n",
       "    <tr>\n",
       "      <th>3</th>\n",
       "      <td>3</td>\n",
       "      <td>0</td>\n",
       "      <td>495102</td>\n",
       "      <td>706458</td>\n",
       "      <td>12.966</td>\n",
       "      <td>24.253</td>\n",
       "      <td>9.549530e-09</td>\n",
       "      <td>0.212632</td>\n",
       "      <td>3.707492e-07</td>\n",
       "      <td>222330</td>\n",
       "    </tr>\n",
       "    <tr>\n",
       "      <th>4</th>\n",
       "      <td>4</td>\n",
       "      <td>0</td>\n",
       "      <td>495102</td>\n",
       "      <td>706458</td>\n",
       "      <td>12.966</td>\n",
       "      <td>24.253</td>\n",
       "      <td>9.549530e-09</td>\n",
       "      <td>0.212632</td>\n",
       "      <td>3.707492e-07</td>\n",
       "      <td>222801</td>\n",
       "    </tr>\n",
       "  </tbody>\n",
       "</table>\n",
       "</div>"
      ],
      "text/plain": [
       "   #Iter  info  #NNZ in L  #NNZ in U   LU MB  Total MB          Norm  \\\n",
       "0      0     0     495102     706458  12.966    24.253  9.549530e-09   \n",
       "1      1     0     495102     706458  12.966    24.253  9.549530e-09   \n",
       "2      2     0     495102     706458  12.966    24.253  9.549530e-09   \n",
       "3      3     0     495102     706458  12.966    24.253  9.549530e-09   \n",
       "4      4     0     495102     706458  12.966    24.253  9.549530e-09   \n",
       "\n",
       "        RPG           RCN  dgssvx  \n",
       "0  0.212632  3.707492e-07  287225  \n",
       "1  0.212632  3.707492e-07  213849  \n",
       "2  0.212632  3.707492e-07  210737  \n",
       "3  0.212632  3.707492e-07  222330  \n",
       "4  0.212632  3.707492e-07  222801  "
      ]
     },
     "execution_count": 17,
     "metadata": {},
     "output_type": "execute_result"
    }
   ],
   "source": [
    "slu_col_60F.head()"
   ]
  },
  {
   "cell_type": "code",
   "execution_count": 18,
   "metadata": {},
   "outputs": [
    {
     "data": {
      "text/html": [
       "<div>\n",
       "<style scoped>\n",
       "    .dataframe tbody tr th:only-of-type {\n",
       "        vertical-align: middle;\n",
       "    }\n",
       "\n",
       "    .dataframe tbody tr th {\n",
       "        vertical-align: top;\n",
       "    }\n",
       "\n",
       "    .dataframe thead th {\n",
       "        text-align: right;\n",
       "    }\n",
       "</style>\n",
       "<table border=\"1\" class=\"dataframe\">\n",
       "  <thead>\n",
       "    <tr style=\"text-align: right;\">\n",
       "      <th></th>\n",
       "      <th>#Iter</th>\n",
       "      <th>info</th>\n",
       "      <th>#NNZ in L</th>\n",
       "      <th>#NNZ in U</th>\n",
       "      <th>LU MB</th>\n",
       "      <th>Total MB</th>\n",
       "      <th>Norm</th>\n",
       "      <th>RPG</th>\n",
       "      <th>RCN</th>\n",
       "      <th>dgssvx</th>\n",
       "    </tr>\n",
       "  </thead>\n",
       "  <tbody>\n",
       "    <tr>\n",
       "      <th>count</th>\n",
       "      <td>11.000000</td>\n",
       "      <td>11.0</td>\n",
       "      <td>11.0</td>\n",
       "      <td>11.0</td>\n",
       "      <td>1.100000e+01</td>\n",
       "      <td>1.100000e+01</td>\n",
       "      <td>1.100000e+01</td>\n",
       "      <td>1.100000e+01</td>\n",
       "      <td>1.100000e+01</td>\n",
       "      <td>11.000000</td>\n",
       "    </tr>\n",
       "    <tr>\n",
       "      <th>mean</th>\n",
       "      <td>5.000000</td>\n",
       "      <td>0.0</td>\n",
       "      <td>495102.0</td>\n",
       "      <td>706458.0</td>\n",
       "      <td>1.296600e+01</td>\n",
       "      <td>2.425300e+01</td>\n",
       "      <td>9.549530e-09</td>\n",
       "      <td>2.126318e-01</td>\n",
       "      <td>3.707492e-07</td>\n",
       "      <td>222836.636364</td>\n",
       "    </tr>\n",
       "    <tr>\n",
       "      <th>std</th>\n",
       "      <td>3.316625</td>\n",
       "      <td>0.0</td>\n",
       "      <td>0.0</td>\n",
       "      <td>0.0</td>\n",
       "      <td>1.863059e-15</td>\n",
       "      <td>3.726118e-15</td>\n",
       "      <td>1.735109e-24</td>\n",
       "      <td>2.911029e-17</td>\n",
       "      <td>5.552348e-23</td>\n",
       "      <td>22097.444157</td>\n",
       "    </tr>\n",
       "    <tr>\n",
       "      <th>min</th>\n",
       "      <td>0.000000</td>\n",
       "      <td>0.0</td>\n",
       "      <td>495102.0</td>\n",
       "      <td>706458.0</td>\n",
       "      <td>1.296600e+01</td>\n",
       "      <td>2.425300e+01</td>\n",
       "      <td>9.549530e-09</td>\n",
       "      <td>2.126318e-01</td>\n",
       "      <td>3.707492e-07</td>\n",
       "      <td>209310.000000</td>\n",
       "    </tr>\n",
       "    <tr>\n",
       "      <th>25%</th>\n",
       "      <td>2.500000</td>\n",
       "      <td>0.0</td>\n",
       "      <td>495102.0</td>\n",
       "      <td>706458.0</td>\n",
       "      <td>1.296600e+01</td>\n",
       "      <td>2.425300e+01</td>\n",
       "      <td>9.549530e-09</td>\n",
       "      <td>2.126318e-01</td>\n",
       "      <td>3.707492e-07</td>\n",
       "      <td>210889.000000</td>\n",
       "    </tr>\n",
       "    <tr>\n",
       "      <th>50%</th>\n",
       "      <td>5.000000</td>\n",
       "      <td>0.0</td>\n",
       "      <td>495102.0</td>\n",
       "      <td>706458.0</td>\n",
       "      <td>1.296600e+01</td>\n",
       "      <td>2.425300e+01</td>\n",
       "      <td>9.549530e-09</td>\n",
       "      <td>2.126318e-01</td>\n",
       "      <td>3.707492e-07</td>\n",
       "      <td>220973.000000</td>\n",
       "    </tr>\n",
       "    <tr>\n",
       "      <th>75%</th>\n",
       "      <td>7.500000</td>\n",
       "      <td>0.0</td>\n",
       "      <td>495102.0</td>\n",
       "      <td>706458.0</td>\n",
       "      <td>1.296600e+01</td>\n",
       "      <td>2.425300e+01</td>\n",
       "      <td>9.549530e-09</td>\n",
       "      <td>2.126318e-01</td>\n",
       "      <td>3.707492e-07</td>\n",
       "      <td>222208.500000</td>\n",
       "    </tr>\n",
       "    <tr>\n",
       "      <th>max</th>\n",
       "      <td>10.000000</td>\n",
       "      <td>0.0</td>\n",
       "      <td>495102.0</td>\n",
       "      <td>706458.0</td>\n",
       "      <td>1.296600e+01</td>\n",
       "      <td>2.425300e+01</td>\n",
       "      <td>9.549530e-09</td>\n",
       "      <td>2.126318e-01</td>\n",
       "      <td>3.707492e-07</td>\n",
       "      <td>287225.000000</td>\n",
       "    </tr>\n",
       "  </tbody>\n",
       "</table>\n",
       "</div>"
      ],
      "text/plain": [
       "           #Iter  info  #NNZ in L  #NNZ in U         LU MB      Total MB  \\\n",
       "count  11.000000  11.0       11.0       11.0  1.100000e+01  1.100000e+01   \n",
       "mean    5.000000   0.0   495102.0   706458.0  1.296600e+01  2.425300e+01   \n",
       "std     3.316625   0.0        0.0        0.0  1.863059e-15  3.726118e-15   \n",
       "min     0.000000   0.0   495102.0   706458.0  1.296600e+01  2.425300e+01   \n",
       "25%     2.500000   0.0   495102.0   706458.0  1.296600e+01  2.425300e+01   \n",
       "50%     5.000000   0.0   495102.0   706458.0  1.296600e+01  2.425300e+01   \n",
       "75%     7.500000   0.0   495102.0   706458.0  1.296600e+01  2.425300e+01   \n",
       "max    10.000000   0.0   495102.0   706458.0  1.296600e+01  2.425300e+01   \n",
       "\n",
       "               Norm           RPG           RCN         dgssvx  \n",
       "count  1.100000e+01  1.100000e+01  1.100000e+01      11.000000  \n",
       "mean   9.549530e-09  2.126318e-01  3.707492e-07  222836.636364  \n",
       "std    1.735109e-24  2.911029e-17  5.552348e-23   22097.444157  \n",
       "min    9.549530e-09  2.126318e-01  3.707492e-07  209310.000000  \n",
       "25%    9.549530e-09  2.126318e-01  3.707492e-07  210889.000000  \n",
       "50%    9.549530e-09  2.126318e-01  3.707492e-07  220973.000000  \n",
       "75%    9.549530e-09  2.126318e-01  3.707492e-07  222208.500000  \n",
       "max    9.549530e-09  2.126318e-01  3.707492e-07  287225.000000  "
      ]
     },
     "execution_count": 18,
     "metadata": {},
     "output_type": "execute_result"
    }
   ],
   "source": [
    "slu_col_60F.describe(include='all')"
   ]
  },
  {
   "cell_type": "code",
   "execution_count": 19,
   "metadata": {},
   "outputs": [],
   "source": [
    "# Convert timings to ms.\n",
    "slu_col_60F['dgssvx'] = slu_col_60F['dgssvx'] / 1000\n",
    "slu_nat_60F['dgssvx'] = slu_nat_60F['dgssvx'] / 1000\n",
    "slu_ata_60F['dgssvx'] = slu_ata_60F['dgssvx'] / 1000\n",
    "slu_usa_60F['dgssvx'] = slu_usa_60F['dgssvx'] / 1000"
   ]
  },
  {
   "cell_type": "code",
   "execution_count": 20,
   "metadata": {},
   "outputs": [
    {
     "data": {
      "image/png": "[encoded data removed]",
      "text/plain": [
       "<Figure size 432x288 with 1 Axes>"
      ]
     },
     "metadata": {},
     "output_type": "display_data"
    }
   ],
   "source": [
    "# Plot of the runtimes for all iterations of dgssvx()\n",
    "a = (slu_nat_60F['dgssvx'])\n",
    "ax = a.plot(style='o',title='Variance for runtime of dgssvx()')\n",
    "plt.xticks(np.arange(1, 11, 1))\n",
    "ax.set(xlabel=\"#Iter\", ylabel=\"Runtime [ms]\")\n",
    "ax.legend(loc='best')\n",
    "plt.show()"
   ]
  },
  {
   "cell_type": "markdown",
   "metadata": {},
   "source": [
    "Let's gather the statistical values for the obtained timings (in ms) and memory consumption."
   ]
  },
  {
   "cell_type": "code",
   "execution_count": 21,
   "metadata": {},
   "outputs": [],
   "source": [
    "slu_nat_tstats = get_slu_stats(slu_nat_60F, 'dgssvx', 11)\n",
    "slu_col_tstats = get_slu_stats(slu_col_60F, 'dgssvx', 11)\n",
    "slu_ata_tstats = get_slu_stats(slu_ata_60F, 'dgssvx', 11)\n",
    "slu_usa_tstats = get_slu_stats(slu_usa_60F, 'dgssvx', 11)\n",
    "\n",
    "slu_nat_mstats = get_slu_mstats(slu_nat_60F)\n",
    "slu_col_mstats = get_slu_mstats(slu_col_60F)\n",
    "slu_ata_mstats = get_slu_mstats(slu_ata_60F)\n",
    "slu_usa_mstats = get_slu_mstats(slu_usa_60F)"
   ]
  },
  {
   "cell_type": "code",
   "execution_count": 22,
   "metadata": {},
   "outputs": [
    {
     "ename": "SyntaxError",
     "evalue": "(unicode error) 'unicodeescape' codec can't decode bytes in position 1-2: truncated \\UXXXXXXXX escape (<ipython-input-22-5a7d92f43360>, line 2)",
     "output_type": "error",
     "traceback": [
      "\u001b[0;36m  File \u001b[0;32m\"<ipython-input-22-5a7d92f43360>\"\u001b[0;36m, line \u001b[0;32m2\u001b[0m\n\u001b[0;31m    ind = ['Mean [ms]', 'Min [ms]', 'Max [ms]', 'Std [ms]', 'Total [MB]', 'L\\U  [MB]']\u001b[0m\n\u001b[0m                                                                         ^\u001b[0m\n\u001b[0;31mSyntaxError\u001b[0m\u001b[0;31m:\u001b[0m (unicode error) 'unicodeescape' codec can't decode bytes in position 1-2: truncated \\UXXXXXXXX escape\n"
     ]
    }
   ],
   "source": [
    "# Consturct DataFrame for nice output.\n",
    "ind = ['Mean [ms]', 'Min [ms]', 'Max [ms]', 'Std [ms]', 'Total [MB]', 'L\\U  [MB]']\n",
    "d = {'NATURAL': slu_nat_tstats+ slu_nat_mstats,\n",
    "     'COLAMD' : slu_col_tstats+ slu_col_mstats,\n",
    "     'MMD_ATA' : slu_ata_tstats+ slu_ata_mstats,\n",
    "     'MMD_AT_PLUS_A' : slu_usa_tstats+ slu_usa_mstats\n",
    "    }\n",
    "slu_tdf = pd.DataFrame(data=d, index=ind)\n",
    "slu_tdf = slu_tdf[['COLAMD', 'NATURAL', 'MMD_ATA', 'MMD_AT_PLUS_A']] # Order columns in my way (not alphabetically)\n",
    "print(\"Mean, max, min and standard deviation for dgssvx() over several repetitions for hqp3_60/Full\")\n",
    "slu_tdf"
   ]
  },
  {
   "cell_type": "code",
   "execution_count": 23,
   "metadata": {},
   "outputs": [
    {
     "name": "stdout",
     "output_type": "stream",
     "text": [
      "Best serial time [ms]: 216.39780000000002\n"
     ]
    }
   ],
   "source": [
    "slu_best_time = min(slu_col_tstats[0], slu_nat_tstats[0], slu_ata_tstats[0], slu_usa_tstats[0])\n",
    "print(\"Best serial time [ms]: %s\" % slu_best_time)"
   ]
  },
  {
   "cell_type": "markdown",
   "metadata": {},
   "source": [
    "**Findings:**\n",
    "* COLAMD, which is the default option, yields the fastest timings with reasonable small memory footprint\n",
    "* MMD_ATA is a bit off with respect to timing, but has a little bit smaller memory footprint compared to COLAMD\n",
    "* NATURAL is off in both statistics\n",
    "* MMD_AT_PLUS_A is way off in timing, but reasonable in memory footprint"
   ]
  },
  {
   "cell_type": "markdown",
   "metadata": {},
   "source": [
    "---"
   ]
  },
  {
   "cell_type": "markdown",
   "metadata": {},
   "source": [
    "## SuperLU_MT"
   ]
  },
  {
   "cell_type": "markdown",
   "metadata": {},
   "source": [
    "Read in the csv files holding the statistics."
   ]
  },
  {
   "cell_type": "code",
   "execution_count": null,
   "metadata": {},
   "outputs": [],
   "source": [
    "slumt_col_60F = pd.read_csv(dir_60F+'/SuperLU_MT_COLAMD.csv',skipinitialspace=True)\n",
    "slumt_ata_60F = pd.read_csv(dir_60F+'/SuperLU_MT_MMD_ATA.csv',skipinitialspace=True)\n",
    "slumt_usa_60F = pd.read_csv(dir_60F+'/SuperLU_MT_MMD_AT_PLUS_A.csv',skipinitialspace=True)\n",
    "# Did not work properly:\n",
    "#slumt_nat = pd.read_csv('hqp3_60_Full_SuperLU_MT_NATURAL.csv',skipinitialspace=True)"
   ]
  },
  {
   "cell_type": "code",
   "execution_count": null,
   "metadata": {},
   "outputs": [],
   "source": [
    "# Convert timings to ms.\n",
    "slumt_col_60F['pdgssvx'] = slumt_col_60F['pdgssvx'] / 1000\n",
    "slumt_ata_60F['pdgssvx'] = slumt_ata_60F['pdgssvx'] / 1000\n",
    "slumt_usa_60F['pdgssvx'] = slumt_usa_60F['pdgssvx'] / 1000"
   ]
  },
  {
   "cell_type": "markdown",
   "metadata": {},
   "source": [
    "Gather timing statistics for SuperLU_MT: mean, std, min and max."
   ]
  },
  {
   "cell_type": "code",
   "execution_count": null,
   "metadata": {},
   "outputs": [],
   "source": [
    "(threads, slumt_col_tstats) = get_slumt_stats(slumt_col_60F, 'pdgssvx', 11)\n",
    "(threads, slumt_ata_tstats) = get_slumt_stats(slumt_ata_60F, 'pdgssvx', 11)\n",
    "(threads, slumt_usa_tstats) = get_slumt_stats(slumt_usa_60F, 'pdgssvx', 11)"
   ]
  },
  {
   "cell_type": "code",
   "execution_count": 7,
   "metadata": {},
   "outputs": [
    {
     "ename": "NameError",
     "evalue": "name 'threads' is not defined",
     "output_type": "error",
     "traceback": [
      "\u001b[0;31m---------------------------------------------------------------------------\u001b[0m",
      "\u001b[0;31mNameError\u001b[0m                                 Traceback (most recent call last)",
      "\u001b[0;32m<ipython-input-7-398a97177c97>\u001b[0m in \u001b[0;36m<module>\u001b[0;34m()\u001b[0m\n\u001b[1;32m      1\u001b[0m \u001b[0;31m# All first items in slumt_col_tstats of type list(list)\u001b[0m\u001b[0;34m\u001b[0m\u001b[0;34m\u001b[0m\u001b[0m\n\u001b[1;32m      2\u001b[0m \u001b[0;31m#lst = [item[0] for item in slumt_col_tstats]\u001b[0m\u001b[0;34m\u001b[0m\u001b[0;34m\u001b[0m\u001b[0m\n\u001b[0;32m----> 3\u001b[0;31m \u001b[0mplt\u001b[0m\u001b[0;34m.\u001b[0m\u001b[0mplot\u001b[0m\u001b[0;34m(\u001b[0m\u001b[0mthreads\u001b[0m\u001b[0;34m,\u001b[0m \u001b[0;34m[\u001b[0m\u001b[0mitem\u001b[0m\u001b[0;34m[\u001b[0m\u001b[0;36m0\u001b[0m\u001b[0;34m]\u001b[0m \u001b[0;32mfor\u001b[0m \u001b[0mitem\u001b[0m \u001b[0;32min\u001b[0m \u001b[0mslumt_col_tstats\u001b[0m\u001b[0;34m]\u001b[0m\u001b[0;34m,\u001b[0m \u001b[0;34m'bs'\u001b[0m\u001b[0;34m,\u001b[0m \u001b[0mlabel\u001b[0m\u001b[0;34m=\u001b[0m\u001b[0;34m\"MMD_COLAMD\"\u001b[0m \u001b[0;34m)\u001b[0m\u001b[0;34m\u001b[0m\u001b[0m\n\u001b[0m\u001b[1;32m      4\u001b[0m \u001b[0mplt\u001b[0m\u001b[0;34m.\u001b[0m\u001b[0mplot\u001b[0m\u001b[0;34m(\u001b[0m\u001b[0mthreads\u001b[0m\u001b[0;34m,\u001b[0m \u001b[0;34m[\u001b[0m\u001b[0mitem\u001b[0m\u001b[0;34m[\u001b[0m\u001b[0;36m0\u001b[0m\u001b[0;34m]\u001b[0m \u001b[0;32mfor\u001b[0m \u001b[0mitem\u001b[0m \u001b[0;32min\u001b[0m \u001b[0mslumt_ata_tstats\u001b[0m\u001b[0;34m]\u001b[0m\u001b[0;34m,\u001b[0m \u001b[0;34m'rx'\u001b[0m\u001b[0;34m,\u001b[0m \u001b[0mlabel\u001b[0m\u001b[0;34m=\u001b[0m\u001b[0;34m\"MMD_ATA\"\u001b[0m \u001b[0;34m)\u001b[0m\u001b[0;34m\u001b[0m\u001b[0m\n\u001b[1;32m      5\u001b[0m \u001b[0mplt\u001b[0m\u001b[0;34m.\u001b[0m\u001b[0mplot\u001b[0m\u001b[0;34m(\u001b[0m\u001b[0mthreads\u001b[0m\u001b[0;34m,\u001b[0m \u001b[0;34m[\u001b[0m\u001b[0mitem\u001b[0m\u001b[0;34m[\u001b[0m\u001b[0;36m0\u001b[0m\u001b[0;34m]\u001b[0m \u001b[0;32mfor\u001b[0m \u001b[0mitem\u001b[0m \u001b[0;32min\u001b[0m \u001b[0mslumt_usa_tstats\u001b[0m\u001b[0;34m]\u001b[0m\u001b[0;34m,\u001b[0m \u001b[0;34m'g^'\u001b[0m\u001b[0;34m,\u001b[0m \u001b[0mlabel\u001b[0m\u001b[0;34m=\u001b[0m\u001b[0;34m\"MMD_AT_PLUS_A\"\u001b[0m \u001b[0;34m)\u001b[0m\u001b[0;34m\u001b[0m\u001b[0m\n",
      "\u001b[0;31mNameError\u001b[0m: name 'threads' is not defined"
     ]
    }
   ],
   "source": [
    "# All first items in slumt_col_tstats of type list(list)\n",
    "#lst = [item[0] for item in slumt_col_tstats]\n",
    "plt.plot(threads, [item[0] for item in slumt_col_tstats], 'bs', label=\"MMD_COLAMD\" )\n",
    "plt.plot(threads, [item[0] for item in slumt_ata_tstats], 'rx', label=\"MMD_ATA\" )\n",
    "plt.plot(threads, [item[0] for item in slumt_usa_tstats], 'g^', label=\"MMD_AT_PLUS_A\" )\n",
    "plt.xticks(np.arange(min(threads), max(threads)+1, 1))\n",
    "plt.ylabel('Runtime [ms]')\n",
    "plt.xlabel('# Threads')\n",
    "legend = plt.legend(loc='best')\n",
    "plt.title('Mean runtime for SuperLU_MT::pdgssvx().')\n",
    "plt.show()"
   ]
  },
  {
   "cell_type": "markdown",
   "metadata": {},
   "source": [
    "Have a look at the speedups for the various orderings."
   ]
  },
  {
   "cell_type": "code",
   "execution_count": null,
   "metadata": {},
   "outputs": [],
   "source": [
    "sp_col = get_speedups(slumt_col_tstats, slu_best_time)\n",
    "sp_ata = get_speedups(slumt_ata_tstats, slu_best_time)\n",
    "sp_usa = get_speedups(slumt_usa_tstats, slu_best_time)"
   ]
  },
  {
   "cell_type": "code",
   "execution_count": null,
   "metadata": {},
   "outputs": [],
   "source": [
    "plt.plot(threads, sp_col, 'bs', label=\"COLAMD\")\n",
    "plt.plot(threads, sp_ata, 'rx', label=\"MMD_ATA\")\n",
    "plt.plot(threads, sp_usa, 'g^', label=\"MMD_AT_PLUS_A\")\n",
    "plt.xticks(np.arange(min(threads), max(threads)+1, 1))\n",
    "plt.ylabel('Speedup')\n",
    "plt.xlabel('# Threads')\n",
    "legend = plt.legend(loc='best')\n",
    "plt.title('Speedup for SuperLU_MT::pdgssvx() with respect to best serial time from SuperLU.')\n",
    "plt.show()"
   ]
  },
  {
   "cell_type": "markdown",
   "metadata": {},
   "source": [
    "Have a look at the total memory consumption for SuperLU_MT. Remark: The memory consumption for the L\\U decomposition can be plotted the very same way. Since it also scales linear with the number of threads, we do not plot it. "
   ]
  },
  {
   "cell_type": "code",
   "execution_count": null,
   "metadata": {},
   "outputs": [],
   "source": [
    "(_, slumt_col_mstats) = get_slumt_stats(slumt_col_60F, 'Total MB', 11)\n",
    "(_, slumt_ata_mstats) = get_slumt_stats(slumt_ata_60F, 'Total MB', 11)\n",
    "(_, slumt_usa_mstats) = get_slumt_stats(slumt_usa_60F, 'Total MB', 11)"
   ]
  },
  {
   "cell_type": "code",
   "execution_count": null,
   "metadata": {
    "scrolled": false
   },
   "outputs": [],
   "source": [
    "# All first items in slumt_col_tstats of type list(list)\n",
    "#lst = [item[0] for item in slumt_col_tstats]\n",
    "plt.plot(threads, [item[0] for item in slumt_col_mstats], 'bs', label=\"MMD_COLAMD\" )\n",
    "plt.plot(threads, [item[0] for item in slumt_ata_mstats], 'rx', label=\"MMD_ATA\" )\n",
    "plt.plot(threads, [item[0] for item in slumt_usa_mstats], 'g^', label=\"MMD_AT_PLUS_A\" )\n",
    "plt.xticks(np.arange(min(threads), max(threads)+1, 1))\n",
    "plt.ylabel('Memory [MB]')\n",
    "plt.xlabel('# Threads')\n",
    "legend = plt.legend(loc='best')\n",
    "plt.title('Total memory consumption for SuperLU_MT::pdgssvx().')\n",
    "plt.show()"
   ]
  },
  {
   "cell_type": "code",
   "execution_count": null,
   "metadata": {},
   "outputs": [],
   "source": [
    "(th, slumt_best_time) = get_best_time(slumt_col_tstats, slumt_ata_tstats, slumt_usa_tstats)\n",
    "\n",
    "print(\"Best SuperLU time [ms]:  %d  \" % slu_best_time)\n",
    "print(\"Best SuperLU_MT time [ms]: %d using %d threads\" %(slumt_best_time, th))"
   ]
  },
  {
   "cell_type": "markdown",
   "metadata": {},
   "source": [
    "**Findings:**\n",
    "* Ordering algorithm COLAMD yields the fastest timings to solve the system\n",
    "  * It scales very reasonable up to 8 threads\n",
    "* Memory consumption scales linear with the number of threads. This holds for all ordering algorithms.\n",
    "  * MMD_AT_PLUS_A requests a (constant) additional amount of memory compared to COLAMD and MMD_ATA\n",
    "* SuperLU_MT yields nearly a **speedup of factor 2** with respect to SuperLU!"
   ]
  },
  {
   "cell_type": "markdown",
   "metadata": {},
   "source": [
    "----"
   ]
  },
  {
   "cell_type": "markdown",
   "metadata": {},
   "source": [
    "## SuperLU_DIST"
   ]
  },
  {
   "cell_type": "code",
   "execution_count": null,
   "metadata": {},
   "outputs": [],
   "source": [
    "sludist_ata_60F = pd.read_csv(dir_60F+'/SuperLU_DIST_MMD_ATA.csv',skipinitialspace=True)\n",
    "sludist_usa_60F = pd.read_csv(dir_60F+'/SuperLU_DIST_MMD_AT_PLUS_A.csv',skipinitialspace=True)\n",
    "sludist_nat_60F = pd.read_csv(dir_60F+'/SuperLU_DIST_NATURAL.csv',skipinitialspace=True)"
   ]
  },
  {
   "cell_type": "code",
   "execution_count": null,
   "metadata": {
    "scrolled": true
   },
   "outputs": [],
   "source": [
    "dfc_ata_60F = condense_df(sludist_ata_60F, 5)\n",
    "dfc_usa_60F = condense_df(sludist_usa_60F, 5)\n",
    "dfc_nat_60F = condense_df(sludist_nat_60F, 5)"
   ]
  },
  {
   "cell_type": "markdown",
   "metadata": {},
   "source": [
    "**Todo** Different 2d grids result in the very same number of MPI procesess, like 2x3 and 3x2. Mark this in the following plot"
   ]
  },
  {
   "cell_type": "code",
   "execution_count": 4,
   "metadata": {},
   "outputs": [
    {
     "ename": "NameError",
     "evalue": "name 'plticker' is not defined",
     "output_type": "error",
     "traceback": [
      "\u001b[0;31m---------------------------------------------------------------------------\u001b[0m",
      "\u001b[0;31mNameError\u001b[0m                                 Traceback (most recent call last)",
      "\u001b[0;32m<ipython-input-4-3dab44878aec>\u001b[0m in \u001b[0;36m<module>\u001b[0;34m()\u001b[0m\n\u001b[1;32m      1\u001b[0m \u001b[0;31m# Plot the timings for all three orderings into one figure.\u001b[0m\u001b[0;34m\u001b[0m\u001b[0;34m\u001b[0m\u001b[0m\n\u001b[0;32m----> 2\u001b[0;31m \u001b[0mloc\u001b[0m \u001b[0;34m=\u001b[0m \u001b[0mplticker\u001b[0m\u001b[0;34m.\u001b[0m\u001b[0mMultipleLocator\u001b[0m\u001b[0;34m(\u001b[0m\u001b[0mbase\u001b[0m\u001b[0;34m=\u001b[0m\u001b[0;36m2.0\u001b[0m\u001b[0;34m)\u001b[0m \u001b[0;31m# this locator puts ticks at regular intervals\u001b[0m\u001b[0;34m\u001b[0m\u001b[0m\n\u001b[0m\u001b[1;32m      3\u001b[0m \u001b[0max\u001b[0m \u001b[0;34m=\u001b[0m \u001b[0mdfc_ata_60F\u001b[0m\u001b[0;34m.\u001b[0m\u001b[0mplot\u001b[0m\u001b[0;34m(\u001b[0m\u001b[0mx\u001b[0m\u001b[0;34m=\u001b[0m\u001b[0;34m'#MPI Procs'\u001b[0m\u001b[0;34m,\u001b[0m \u001b[0my\u001b[0m\u001b[0;34m=\u001b[0m\u001b[0;34m'time'\u001b[0m\u001b[0;34m,\u001b[0m \u001b[0mstyle\u001b[0m\u001b[0;34m=\u001b[0m\u001b[0;34m'o'\u001b[0m\u001b[0;34m,\u001b[0m \u001b[0mlabel\u001b[0m\u001b[0;34m=\u001b[0m\u001b[0;34m\"MMD_ATA\"\u001b[0m\u001b[0;34m)\u001b[0m\u001b[0;34m\u001b[0m\u001b[0m\n\u001b[1;32m      4\u001b[0m \u001b[0max\u001b[0m\u001b[0;34m.\u001b[0m\u001b[0mxaxis\u001b[0m\u001b[0;34m.\u001b[0m\u001b[0mset_major_locator\u001b[0m\u001b[0;34m(\u001b[0m\u001b[0mloc\u001b[0m\u001b[0;34m)\u001b[0m\u001b[0;34m\u001b[0m\u001b[0m\n\u001b[1;32m      5\u001b[0m \u001b[0max2\u001b[0m \u001b[0;34m=\u001b[0m \u001b[0mdfc_nat_60F\u001b[0m\u001b[0;34m.\u001b[0m\u001b[0mplot\u001b[0m\u001b[0;34m(\u001b[0m\u001b[0max\u001b[0m\u001b[0;34m=\u001b[0m\u001b[0max\u001b[0m\u001b[0;34m,\u001b[0m \u001b[0mx\u001b[0m\u001b[0;34m=\u001b[0m\u001b[0;34m'#MPI Procs'\u001b[0m\u001b[0;34m,\u001b[0m \u001b[0my\u001b[0m\u001b[0;34m=\u001b[0m\u001b[0;34m'time'\u001b[0m\u001b[0;34m,\u001b[0m \u001b[0mstyle\u001b[0m\u001b[0;34m=\u001b[0m\u001b[0;34m'x'\u001b[0m\u001b[0;34m,\u001b[0m  \u001b[0mlabel\u001b[0m\u001b[0;34m=\u001b[0m\u001b[0;34m\"NATURAL\"\u001b[0m\u001b[0;34m)\u001b[0m\u001b[0;34m\u001b[0m\u001b[0m\n",
      "\u001b[0;31mNameError\u001b[0m: name 'plticker' is not defined"
     ]
    }
   ],
   "source": [
    "# Plot the timings for all three orderings into one figure.\n",
    "loc = plticker.MultipleLocator(base=2.0) # this locator puts ticks at regular intervals\n",
    "ax = dfc_ata_60F.plot(x='#MPI Procs', y='time', style='o', label=\"MMD_ATA\")\n",
    "ax.xaxis.set_major_locator(loc)\n",
    "ax2 = dfc_nat_60F.plot(ax=ax, x='#MPI Procs', y='time', style='x',  label=\"NATURAL\")\n",
    "dfc_usa_60F.plot(ax=ax2, x='#MPI Procs', y='time', style='^', label=\"MMD_AT_PLUS_A\")\n",
    "ax2.set(xlabel=\"#MPI Procs\", ylabel=\"Runtime [ms]\")\n",
    "legend = plt.legend(loc='best')\n",
    "plt.title('Mean runtime of SuperLU_DIST::pdgssvx_ABglobal().')\n",
    "plt.show()"
   ]
  },
  {
   "cell_type": "markdown",
   "metadata": {},
   "source": [
    "From the previous figure, it is clear that ordering MMD_ATA yields the fastest runtimes for SuperLU_DIST. Thus, we will only analyse the results obtained with ordering MMD_ATA further."
   ]
  },
  {
   "cell_type": "code",
   "execution_count": null,
   "metadata": {},
   "outputs": [],
   "source": [
    "# Find best runtime for SuperLU_DIST\n",
    "#sludist_best_time = dfc_ata['time'].min()\n",
    "#mi = dfc_ata['time'].idxmin() # Idx of minimal value in column 'time'\n",
    "#nrows = dfc_ata['nrows'][mi]\n",
    "#ncols = dfc_ata['ncols'][mi]\n",
    "#nmpi = dfc_ata['#MPI Procs'][mi]\n",
    "\n",
    "(sludist_best_time, descr)  = get_sludist_best_time(dfc_ata_60F)\n",
    "\n",
    "print \"===== SuperLU_DIST =====\"\n",
    "print \"Best runtime: \", sludist_best_time, \"ms\"\n",
    "print \"  #MPI Procs: \", descr[0]\n",
    "print \"       #rows: \", descr[1]\n",
    "print \"       #cols: \", descr[2]"
   ]
  },
  {
   "cell_type": "code",
   "execution_count": null,
   "metadata": {},
   "outputs": [],
   "source": [
    "# Best runtimes for all benchmarks:\n",
    "print \"==== Best Runtimes for system hqp3_60/Full ====\"\n",
    "print \"     SuperLU: \", slu_best_time, \"ms\"\n",
    "print \"  SuperLU_MT: \", slumt_best_time, \"ms using %s threads\" % th\n",
    "print \"SuperLU_DIST: \", sludist_best_time, \"ms using %s MPI procesess\" % descr[0]"
   ]
  },
  {
   "cell_type": "markdown",
   "metadata": {},
   "source": [
    "### Findings\n",
    "* SuperLU_MT outperforms SuperLU and SuperLU_DIST clearly\n",
    "* Max. speedup achieved using SuperLU_MT 1.6 with respect to SuperLU\n",
    "* SuperLU_DIST is even slower than sequential SuperLU\n"
   ]
  },
  {
   "cell_type": "markdown",
   "metadata": {},
   "source": [
    "----"
   ]
  },
  {
   "cell_type": "markdown",
   "metadata": {},
   "source": [
    "## hqp3_15/Full"
   ]
  },
  {
   "cell_type": "markdown",
   "metadata": {},
   "source": [
    "### SuperLU"
   ]
  },
  {
   "cell_type": "code",
   "execution_count": null,
   "metadata": {},
   "outputs": [],
   "source": [
    "# Read in csv files holding the benchmark statistics.\n",
    "slu_col_15F = pd.read_csv(dir_15F+'/SuperLU_COLAMD.csv', skipinitialspace=True)\n",
    "slu_ata_15F = pd.read_csv(dir_15F+'/SuperLU_MMD_ATA.csv', skipinitialspace=True)\n",
    "slu_usa_15F = pd.read_csv(dir_15F+'/SuperLU_MMD_AT_PLUS_A.csv', skipinitialspace=True)\n",
    "# Did not succeed:\n",
    "#slu_nat_15F = pd.read_csv(dir_15F+'/SuperLU_NATURAL.csv',skipinitialspace=True)"
   ]
  },
  {
   "cell_type": "code",
   "execution_count": null,
   "metadata": {},
   "outputs": [],
   "source": [
    "# Convert timings to ms.\n",
    "slu_col_15F['dgssvx'] = slu_col_15F['dgssvx'] / 1000\n",
    "slu_ata_15F['dgssvx'] = slu_ata_15F['dgssvx'] / 1000\n",
    "slu_usa_15F['dgssvx'] = slu_usa_15F['dgssvx'] / 1000"
   ]
  },
  {
   "cell_type": "code",
   "execution_count": null,
   "metadata": {
    "scrolled": true
   },
   "outputs": [],
   "source": [
    "slu_col_tstats = get_slu_stats(slu_col_15F, 'dgssvx', 11)\n",
    "slu_ata_tstats = get_slu_stats(slu_ata_15F, 'dgssvx', 11)\n",
    "slu_usa_tstats = get_slu_stats(slu_usa_15F, 'dgssvx', 11)\n",
    "\n",
    "slu_col_mstats = get_slu_mstats(slu_col_15F)\n",
    "slu_ata_mstats = get_slu_mstats(slu_ata_15F)\n",
    "slu_usa_mstats = get_slu_mstats(slu_usa_15F)"
   ]
  },
  {
   "cell_type": "code",
   "execution_count": 2,
   "metadata": {},
   "outputs": [
    {
     "ename": "SyntaxError",
     "evalue": "(unicode error) 'unicodeescape' codec can't decode bytes in position 1-2: truncated \\UXXXXXXXX escape (<ipython-input-2-95a507add473>, line 2)",
     "output_type": "error",
     "traceback": [
      "\u001b[0;36m  File \u001b[0;32m\"<ipython-input-2-95a507add473>\"\u001b[0;36m, line \u001b[0;32m2\u001b[0m\n\u001b[0;31m    ind = ['Mean [ms]', 'Min [ms]', 'Max [ms]', 'Std [ms]', 'Total [MB]', 'L\\U  [MB]']\u001b[0m\n\u001b[0m                                                                         ^\u001b[0m\n\u001b[0;31mSyntaxError\u001b[0m\u001b[0;31m:\u001b[0m (unicode error) 'unicodeescape' codec can't decode bytes in position 1-2: truncated \\UXXXXXXXX escape\n"
     ]
    }
   ],
   "source": [
    "# Consturct DataFrame for nice output.\n",
    "ind = ['Mean [ms]', 'Min [ms]', 'Max [ms]', 'Std [ms]', 'Total [MB]', 'L\\U  [MB]']\n",
    "d = {'COLAMD' : slu_col_tstats+ slu_col_mstats,\n",
    "     'MMD_ATA' : slu_ata_tstats+ slu_ata_mstats,\n",
    "     'MMD_AT_PLUS_A' : slu_usa_tstats+ slu_usa_mstats }\n",
    "slu_tdf = pd.DataFrame(data=d, index=ind)\n",
    "slu_tdf = slu_tdf[['COLAMD', 'MMD_ATA', 'MMD_AT_PLUS_A']] # Order columns in my way (not alphabetically)\n",
    "print(\"Mean, max, min and standard deviation for dgssvx() over several repetitions for hqp3_60/Full\")\n",
    "slu_tdf"
   ]
  },
  {
   "cell_type": "code",
   "execution_count": 3,
   "metadata": {},
   "outputs": [
    {
     "ename": "NameError",
     "evalue": "name 'slu_col_tstats' is not defined",
     "output_type": "error",
     "traceback": [
      "\u001b[0;31m---------------------------------------------------------------------------\u001b[0m",
      "\u001b[0;31mNameError\u001b[0m                                 Traceback (most recent call last)",
      "\u001b[0;32m<ipython-input-3-397ff315711f>\u001b[0m in \u001b[0;36m<module>\u001b[0;34m()\u001b[0m\n\u001b[0;32m----> 1\u001b[0;31m \u001b[0mslu_best_time_15F\u001b[0m \u001b[0;34m=\u001b[0m \u001b[0mmin\u001b[0m\u001b[0;34m(\u001b[0m\u001b[0mslu_col_tstats\u001b[0m\u001b[0;34m[\u001b[0m\u001b[0;36m0\u001b[0m\u001b[0;34m]\u001b[0m\u001b[0;34m,\u001b[0m \u001b[0mslu_ata_tstats\u001b[0m\u001b[0;34m[\u001b[0m\u001b[0;36m0\u001b[0m\u001b[0;34m]\u001b[0m\u001b[0;34m,\u001b[0m \u001b[0mslu_usa_tstats\u001b[0m\u001b[0;34m[\u001b[0m\u001b[0;36m0\u001b[0m\u001b[0;34m]\u001b[0m\u001b[0;34m)\u001b[0m\u001b[0;34m\u001b[0m\u001b[0m\n\u001b[0m\u001b[1;32m      2\u001b[0m \u001b[0mprint\u001b[0m\u001b[0;34m(\u001b[0m\u001b[0;34m\"Best serial time [ms]: %s\"\u001b[0m \u001b[0;34m%\u001b[0m \u001b[0mslu_best_time_15F\u001b[0m\u001b[0;34m)\u001b[0m\u001b[0;34m\u001b[0m\u001b[0m\n",
      "\u001b[0;31mNameError\u001b[0m: name 'slu_col_tstats' is not defined"
     ]
    }
   ],
   "source": [
    "slu_best_time_15F = min(slu_col_tstats[0], slu_ata_tstats[0], slu_usa_tstats[0])\n",
    "print(\"Best serial time [ms]: %s\" % slu_best_time_15F)"
   ]
  },
  {
   "cell_type": "markdown",
   "metadata": {},
   "source": [
    "**Findings**\n",
    "* COLAMD ordering algorithm yields fastest runtimes\n",
    "* ATA ordering is slower but has smaller memory footprint compared to COLAMD\n",
    "* AT_PLUS_A ordering is way off in both aspects runtime and memory footprint"
   ]
  },
  {
   "cell_type": "markdown",
   "metadata": {},
   "source": [
    "----"
   ]
  },
  {
   "cell_type": "markdown",
   "metadata": {},
   "source": [
    "### SuperLU_MT"
   ]
  },
  {
   "cell_type": "code",
   "execution_count": null,
   "metadata": {},
   "outputs": [],
   "source": [
    "slumt_col_15F = pd.read_csv(dir_15F+'/SuperLU_MT_COLAMD.csv',skipinitialspace=True)\n",
    "slumt_ata_15F = pd.read_csv(dir_15F+'/SuperLU_MT_MMD_ATA.csv',skipinitialspace=True)\n",
    "slumt_usa_15F = pd.read_csv(dir_15F+'/SuperLU_MT_MMD_AT_PLUS_A.csv',skipinitialspace=True)"
   ]
  },
  {
   "cell_type": "code",
   "execution_count": null,
   "metadata": {},
   "outputs": [],
   "source": [
    "# Convert timings to ms.\n",
    "slumt_col_15F['pdgssvx'] = slumt_col_15F['pdgssvx'] / 1000\n",
    "slumt_ata_15F['pdgssvx'] = slumt_ata_15F['pdgssvx'] / 1000\n",
    "slumt_usa_15F['pdgssvx'] = slumt_usa_15F['pdgssvx'] / 1000"
   ]
  },
  {
   "cell_type": "code",
   "execution_count": null,
   "metadata": {},
   "outputs": [],
   "source": [
    "# Be careful, MMD_AT_PLUS_A was so slow, we just executed it for 1 MPI Process and skipped the rest\n",
    "(threads, slumt_col_tstats) = get_slumt_stats(slumt_col_15F, 'pdgssvx', 11)\n",
    "(threads, slumt_ata_tstats) = get_slumt_stats(slumt_ata_15F, 'pdgssvx', 11)\n",
    "(_, slumt_usa_tstats) = get_slumt_stats(slumt_usa_15F, 'pdgssvx', 11)"
   ]
  },
  {
   "cell_type": "code",
   "execution_count": 1,
   "metadata": {},
   "outputs": [
    {
     "ename": "NameError",
     "evalue": "name 'plticker' is not defined",
     "output_type": "error",
     "traceback": [
      "\u001b[0;31m---------------------------------------------------------------------------\u001b[0m",
      "\u001b[0;31mNameError\u001b[0m                                 Traceback (most recent call last)",
      "\u001b[0;32m<ipython-input-1-910c82a420bf>\u001b[0m in \u001b[0;36m<module>\u001b[0;34m()\u001b[0m\n\u001b[1;32m      1\u001b[0m \u001b[0;31m# All first items in slumt_col_tstats of type list(list)\u001b[0m\u001b[0;34m\u001b[0m\u001b[0;34m\u001b[0m\u001b[0m\n\u001b[1;32m      2\u001b[0m \u001b[0;31m#lst = [item[0] for item in slumt_col_tstats]\u001b[0m\u001b[0;34m\u001b[0m\u001b[0;34m\u001b[0m\u001b[0m\n\u001b[0;32m----> 3\u001b[0;31m \u001b[0mloc\u001b[0m \u001b[0;34m=\u001b[0m \u001b[0mplticker\u001b[0m\u001b[0;34m.\u001b[0m\u001b[0mMultipleLocator\u001b[0m\u001b[0;34m(\u001b[0m\u001b[0mbase\u001b[0m\u001b[0;34m=\u001b[0m\u001b[0;36m2.0\u001b[0m\u001b[0;34m)\u001b[0m \u001b[0;31m# this locator puts ticks at regular intervals\u001b[0m\u001b[0;34m\u001b[0m\u001b[0m\n\u001b[0m\u001b[1;32m      4\u001b[0m \u001b[0mplt\u001b[0m\u001b[0;34m.\u001b[0m\u001b[0mplot\u001b[0m\u001b[0;34m(\u001b[0m\u001b[0mthreads\u001b[0m\u001b[0;34m,\u001b[0m \u001b[0;34m[\u001b[0m\u001b[0mitem\u001b[0m\u001b[0;34m[\u001b[0m\u001b[0;36m0\u001b[0m\u001b[0;34m]\u001b[0m \u001b[0;32mfor\u001b[0m \u001b[0mitem\u001b[0m \u001b[0;32min\u001b[0m \u001b[0mslumt_col_tstats\u001b[0m\u001b[0;34m]\u001b[0m\u001b[0;34m,\u001b[0m \u001b[0;34m'bs'\u001b[0m\u001b[0;34m,\u001b[0m \u001b[0mlabel\u001b[0m\u001b[0;34m=\u001b[0m\u001b[0;34m\"MMD_COLAMD\"\u001b[0m \u001b[0;34m)\u001b[0m\u001b[0;34m\u001b[0m\u001b[0m\n\u001b[1;32m      5\u001b[0m \u001b[0mplt\u001b[0m\u001b[0;34m.\u001b[0m\u001b[0mplot\u001b[0m\u001b[0;34m(\u001b[0m\u001b[0mthreads\u001b[0m\u001b[0;34m,\u001b[0m \u001b[0;34m[\u001b[0m\u001b[0mitem\u001b[0m\u001b[0;34m[\u001b[0m\u001b[0;36m0\u001b[0m\u001b[0;34m]\u001b[0m \u001b[0;32mfor\u001b[0m \u001b[0mitem\u001b[0m \u001b[0;32min\u001b[0m \u001b[0mslumt_ata_tstats\u001b[0m\u001b[0;34m]\u001b[0m\u001b[0;34m,\u001b[0m \u001b[0;34m'rx'\u001b[0m\u001b[0;34m,\u001b[0m \u001b[0mlabel\u001b[0m\u001b[0;34m=\u001b[0m\u001b[0;34m\"MMD_ATA\"\u001b[0m \u001b[0;34m)\u001b[0m\u001b[0;34m\u001b[0m\u001b[0m\n",
      "\u001b[0;31mNameError\u001b[0m: name 'plticker' is not defined"
     ]
    }
   ],
   "source": [
    "# All first items in slumt_col_tstats of type list(list)\n",
    "#lst = [item[0] for item in slumt_col_tstats]\n",
    "loc = plticker.MultipleLocator(base=2.0) # this locator puts ticks at regular intervals\n",
    "plt.plot(threads, [item[0] for item in slumt_col_tstats], 'bs', label=\"MMD_COLAMD\" )\n",
    "plt.plot(threads, [item[0] for item in slumt_ata_tstats], 'rx', label=\"MMD_ATA\" )\n",
    "plt.xticks(np.arange(min(threads), max(threads)+1, 1))\n",
    "plt.ylabel('Runtime [ms]')\n",
    "plt.xlabel('# Threads')\n",
    "legend = plt.legend(loc='best')\n",
    "plt.title('Mean runtime for SuperLU_MT::pdgssvx() for hqp3_15/Full.')\n",
    "plt.show()"
   ]
  },
  {
   "cell_type": "code",
   "execution_count": null,
   "metadata": {},
   "outputs": [],
   "source": [
    "sp_col = get_speedups(slumt_col_tstats, slu_best_time_15F)\n",
    "plt.plot(threads, sp_col, 'bs', label=\"COLAMD\")\n",
    "plt.xticks(np.arange(min(threads), max(threads)+1, 1))\n",
    "plt.ylabel('Speedup')\n",
    "plt.xlabel('# Threads')\n",
    "legend = plt.legend(loc='best')\n",
    "plt.title('Speedup for SuperLU_MT::pdgssvx() with respect to best serial time from SuperLU for hqp3_15/Full.')\n",
    "plt.show()"
   ]
  },
  {
   "cell_type": "markdown",
   "metadata": {
    "collapsed": true
   },
   "source": [
    "### SuperLU_DIST"
   ]
  },
  {
   "cell_type": "code",
   "execution_count": null,
   "metadata": {},
   "outputs": [],
   "source": [
    "sludist_ata_15F = pd.read_csv(dir_15F+'/SuperLU_DIST_MMD_ATA.csv',skipinitialspace=True)\n",
    "sludist_usa_15F = pd.read_csv(dir_15F+'/SuperLU_DIST_MMD_AT_PLUS_A.csv',skipinitialspace=True)\n",
    "sludist_nat_15F = pd.read_csv(dir_15F+'/SuperLU_DIST_NATURAL.csv',skipinitialspace=True)"
   ]
  },
  {
   "cell_type": "code",
   "execution_count": null,
   "metadata": {},
   "outputs": [],
   "source": [
    "dfc_ata_15F = condense_df(sludist_ata_15F, 5)\n",
    "dfc_usa_15F = condense_df(sludist_usa_15F, 5)\n",
    "dfc_nat_15F = condense_df(sludist_nat_15F, 5)"
   ]
  },
  {
   "cell_type": "code",
   "execution_count": null,
   "metadata": {},
   "outputs": [],
   "source": [
    "# Plot the timings for all three orderings into one figure.\n",
    "loc = plticker.MultipleLocator(base=2.0) # this locator puts ticks at regular intervals\n",
    "ax = dfc_ata_15F.plot(x='#MPI Procs', y='time', style='o', label=\"MMD_ATA\")\n",
    "ax.xaxis.set_major_locator(loc)\n",
    "ax2 = dfc_nat_15F.plot(ax=ax, x='#MPI Procs', y='time', style='x',  label=\"NATURAL\")\n",
    "dfc_usa_15F.plot(ax=ax2, x='#MPI Procs', y='time', style='^', label=\"MMD_AT_PLUS_A\")\n",
    "ax2.set(xlabel=\"#MPI Procs\", ylabel=\"Runtime [ms]\")\n",
    "legend = plt.legend(loc='best')\n",
    "plt.title('Mean runtime of SuperLU_DIST::pdgssvx_ABglobal().')\n",
    "plt.show()"
   ]
  },
  {
   "cell_type": "markdown",
   "metadata": {},
   "source": [
    "Since the NATURAL ordering yields a magnitude slower timings, we cannot see any difference between MMD_ATA and MMD_AT_A_PLUS_A from the previous plot. Thus, plot runtimes for MMD_ATA and MMD_AT_PLUS_A in a seperate figure."
   ]
  },
  {
   "cell_type": "code",
   "execution_count": null,
   "metadata": {},
   "outputs": [],
   "source": [
    "# Plot the timings for all three orderings into one figure.\n",
    "loc = plticker.MultipleLocator(base=2.0) # this locator puts ticks at regular intervals\n",
    "ax = dfc_ata_15F.plot(x='#MPI Procs', y='time', style='o', label=\"MMD_ATA\")\n",
    "ax.xaxis.set_major_locator(loc)\n",
    "ax2= dfc_usa_15F.plot(ax=ax, x='#MPI Procs', y='time', style='^', label=\"MMD_AT_PLUS_A\")\n",
    "ax2.set(xlabel=\"#MPI Procs\", ylabel=\"Runtime [ms]\")\n",
    "legend = plt.legend(loc='best')\n",
    "plt.title('Mean runtime of SuperLU_DIST::pdgssvx_ABglobal().')\n",
    "plt.show()"
   ]
  },
  {
   "cell_type": "markdown",
   "metadata": {},
   "source": [
    "From the previous figure, it is clear that ordering MMD_ATA yields the fastest runtimes for SuperLU_DIST. Thus, we will only analyse the results obtained with ordering MMD_ATA further."
   ]
  },
  {
   "cell_type": "code",
   "execution_count": null,
   "metadata": {},
   "outputs": [],
   "source": [
    "# Find best runtime for SuperLU_DIST\n",
    "#sludist_best_time = dfc_ata['time'].min()\n",
    "#mi = dfc_ata['time'].idxmin() # Idx of minimal value in column 'time'\n",
    "#nrows = dfc_ata['nrows'][mi]\n",
    "#ncols = dfc_ata['ncols'][mi]\n",
    "#nmpi = dfc_ata['#MPI Procs'][mi]\n",
    "\n",
    "(sludist_best_time, descr)  = get_sludist_best_time(dfc_ata_15F)\n",
    "\n",
    "print \"===== SuperLU_DIST =====\"\n",
    "print \"Best runtime: \", sludist_best_time, \"ms\"\n",
    "print \"  #MPI Procs: \", descr[0]\n",
    "print \"       #rows: \", descr[1]\n",
    "print \"       #cols: \", descr[2]"
   ]
  },
  {
   "cell_type": "code",
   "execution_count": null,
   "metadata": {},
   "outputs": [],
   "source": [
    "# Best runtimes for all benchmarks:\n",
    "print \"==== Best Runtimes for system hqp3_15/Full ====\"\n",
    "print \"     SuperLU: \", slu_best_time, \"ms\"\n",
    "print \"  SuperLU_MT: \", slumt_best_time, \"ms using %s threads\" % th\n",
    "print \"SuperLU_DIST: \", sludist_best_time, \"ms using %s MPI procesess\" % descr[0]"
   ]
  },
  {
   "cell_type": "markdown",
   "metadata": {},
   "source": [
    "### Findings\n",
    "* SuperLU_MT outperforms SuperLU and SuperLU_DIST clearly\n",
    "* Max. speedup achieved using SuperLU_MT 1.6 with respect to SuperLU\n",
    "* SuperLU_DIST is even slower than sequential SuperLU"
   ]
  },
  {
   "cell_type": "markdown",
   "metadata": {},
   "source": [
    "----"
   ]
  },
  {
   "cell_type": "markdown",
   "metadata": {},
   "source": [
    "Zwischenablage- brauchen wir das noch?"
   ]
  },
  {
   "cell_type": "markdown",
   "metadata": {},
   "source": [
    "Boxplot of the timings for ordering COLAMD over all threads. This plot is not very usefull, is it?\n",
    "It ca be seen some kind of scaling (but for this a plot of the speedup would be better) and that the variance of the inividual runs is very small."
   ]
  },
  {
   "cell_type": "code",
   "execution_count": null,
   "metadata": {},
   "outputs": [],
   "source": [
    "ax = sns.boxplot(x=\"#Threads\", y=\"pdgssvx\", data=slumt_col, showfliers=False)\n",
    "sns.plt.show()"
   ]
  },
  {
   "cell_type": "markdown",
   "metadata": {},
   "source": [
    "Boxplot for ordering COLAMD and 1 thread. Just as example."
   ]
  },
  {
   "cell_type": "code",
   "execution_count": null,
   "metadata": {
    "scrolled": true
   },
   "outputs": [],
   "source": [
    "xx=slumt_col[1:11]\n",
    "ax = sns.boxplot(x=\"#Threads\", y=\"pdgssvx\", data=xx)\n",
    "sns.plt.show()"
   ]
  },
  {
   "cell_type": "code",
   "execution_count": null,
   "metadata": {},
   "outputs": [],
   "source": [
    "#Boxplots https://matplotlib.org/examples/pylab_examples/boxplot_demo.html\n",
    "spread = np.random.rand(50) * 100\n",
    "center = np.ones(25) * 50\n",
    "flier_high = np.random.rand(10) * 100 + 100\n",
    "flier_low = np.random.rand(10) * -100\n",
    "data = np.concatenate((spread, center, flier_high, flier_low), 0)\n",
    "type(data)\n",
    "# basic plot\n",
    "#plt.boxplot(data)\n",
    "#plt.show()"
   ]
  },
  {
   "cell_type": "code",
   "execution_count": null,
   "metadata": {},
   "outputs": [],
   "source": []
  },
  {
   "cell_type": "code",
   "execution_count": null,
   "metadata": {},
   "outputs": [],
   "source": []
  },
  {
   "cell_type": "code",
   "execution_count": null,
   "metadata": {},
   "outputs": [],
   "source": []
  },
  {
   "cell_type": "code",
   "execution_count": null,
   "metadata": {},
   "outputs": [],
   "source": []
  },
  {
   "cell_type": "code",
   "execution_count": null,
   "metadata": {},
   "outputs": [],
   "source": [
    "# Since we have a scaled number of threads, we are only interested in mean timing in the first step\n",
    "ind = range(1, 13)\n",
    "d = {'Mean' : list(zip(*slumt_col_tstats))[0],\n",
    "    # 'MMD_ATA' : slu_ata_tstats,\n",
    "    # 'MMD_AT_PLUS_A' : slu_usa_tstats\n",
    "    }\n",
    "df = pd.DataFrame(data=d, index=ind)\n",
    "#df = df[['COLAMD', 'MMD_ATA', 'MMD_AT_PLUS_A']] # Order columns in my way (not alphabetically)\n",
    "df\n"
   ]
  },
  {
   "cell_type": "markdown",
   "metadata": {
    "collapsed": true
   },
   "source": [
    "## Loop Scheduling Variation\n",
    "There are four different ways for loop scheduling in OpenMP, which were tested against each other (auto, static, dynamic, guided). The matrices Electrical.M28_N28 and Electrical.M14_N14 from Scalable Test Suite were tested.  "
   ]
  },
  {
   "cell_type": "code",
   "execution_count": 27,
   "metadata": {},
   "outputs": [],
   "source": [
    "static_14 = pd.read_csv(dir_scheduling_type+\"/14_static.csv\", skipinitialspace=True)\n",
    "dynamic_14 = pd.read_csv(dir_scheduling_type+\"/14_dynamic.csv\", skipinitialspace=True)\n",
    "guided_14 = pd.read_csv(dir_scheduling_type+\"/14_guided.csv\", skipinitialspace=True)\n",
    "auto_14 = pd.read_csv(dir_scheduling_type+\"/14_auto.csv\", skipinitialspace=True)\n",
    "\n",
    "static_28 = pd.read_csv(dir_scheduling_type+\"/28_static.csv\", skipinitialspace=True)\n",
    "dynamic_28 = pd.read_csv(dir_scheduling_type+\"/28_dynamic.csv\", skipinitialspace=True)\n",
    "guided_28 = pd.read_csv(dir_scheduling_type+\"/28_guided.csv\", skipinitialspace=True)\n",
    "auto_28 = pd.read_csv(dir_scheduling_type+\"/28_auto.csv\", skipinitialspace=True)"
   ]
  },
  {
   "cell_type": "code",
   "execution_count": 60,
   "metadata": {},
   "outputs": [
    {
     "ename": "SyntaxError",
     "evalue": "invalid syntax (<ipython-input-60-5ff46f6df156>, line 19)",
     "output_type": "error",
     "traceback": [
      "\u001b[0;36m  File \u001b[0;32m\"<ipython-input-60-5ff46f6df156>\"\u001b[0;36m, line \u001b[0;32m19\u001b[0m\n\u001b[0;31m    plot_list = {'#Threads:' Threads , 'Speedup:' Speedup}\u001b[0m\n\u001b[0m                                   ^\u001b[0m\n\u001b[0;31mSyntaxError\u001b[0m\u001b[0;31m:\u001b[0m invalid syntax\n"
     ]
    }
   ],
   "source": [
    "# extract speedup data from raw\n",
    "scheduling_raw = [static_14, dynamic_14, guided_14, auto_14, static_28, dynamic_28, guided_28, auto_28]\n",
    "scheduling = []\n",
    "for test_result in scheduling_raw:\n",
    "    Threads=[]\n",
    "    max_threads=max(test_result['#Threads'])\n",
    "    for i in range(1, max_threads + 1):\n",
    "        Threads.append(i)\n",
    "    a=[]\n",
    "    Speedup=[a]*max_threads\n",
    "    for thread in Threads:\n",
    "        for line in test_result.itertuples(index=False, name='line'):\n",
    "            if line[0] == thread:\n",
    "                try:\n",
    "                    Speedup[thread].append(line[3])\n",
    "                except(IndexError):\n",
    "                    print('IndexError: list index out of range')\n",
    "                    print(line)\n",
    "    df=pd.DataFrame(index=Threads, )\n",
    "    #plot_list = {'#Threads:' Threads , 'Speedup:' Speedup}\n",
    "    #print(plot_list)\n",
    "    #scheduling.append(plot_list)\n",
    "    # look at pd.loc"
   ]
  },
  {
   "cell_type": "code",
   "execution_count": 43,
   "metadata": {},
   "outputs": [
    {
     "ename": "IndexError",
     "evalue": "list index out of range",
     "output_type": "error",
     "traceback": [
      "\u001b[0;31m---------------------------------------------------------------------------\u001b[0m",
      "\u001b[0;31mIndexError\u001b[0m                                Traceback (most recent call last)",
      "\u001b[0;32m<ipython-input-43-04275b8365ce>\u001b[0m in \u001b[0;36m<module>\u001b[0;34m()\u001b[0m\n\u001b[0;32m----> 1\u001b[0;31m \u001b[0ma\u001b[0m \u001b[0;34m=\u001b[0m \u001b[0;34m(\u001b[0m\u001b[0mscheduling\u001b[0m\u001b[0;34m[\u001b[0m\u001b[0;36m0\u001b[0m\u001b[0;34m]\u001b[0m\u001b[0;34m)\u001b[0m\u001b[0;34m\u001b[0m\u001b[0m\n\u001b[0m\u001b[1;32m      2\u001b[0m \u001b[0max\u001b[0m \u001b[0;34m=\u001b[0m \u001b[0ma\u001b[0m\u001b[0;34m.\u001b[0m\u001b[0mplot\u001b[0m\u001b[0;34m(\u001b[0m\u001b[0mstyle\u001b[0m\u001b[0;34m=\u001b[0m\u001b[0;34m'o'\u001b[0m\u001b[0;34m,\u001b[0m\u001b[0mtitle\u001b[0m\u001b[0;34m=\u001b[0m\u001b[0;34m'Speedup of Electrical.N14_M14 matrix for different loop scheduling types'\u001b[0m\u001b[0;34m)\u001b[0m\u001b[0;34m\u001b[0m\u001b[0m\n\u001b[1;32m      3\u001b[0m \u001b[0;31m#plt.xticks(np.arange(1, 11, 1))\u001b[0m\u001b[0;34m\u001b[0m\u001b[0;34m\u001b[0m\u001b[0m\n\u001b[1;32m      4\u001b[0m \u001b[0max\u001b[0m\u001b[0;34m.\u001b[0m\u001b[0mset\u001b[0m\u001b[0;34m(\u001b[0m\u001b[0mxlabel\u001b[0m\u001b[0;34m=\u001b[0m\u001b[0;34m\"Number of Threads\"\u001b[0m\u001b[0;34m,\u001b[0m \u001b[0mylabel\u001b[0m\u001b[0;34m=\u001b[0m\u001b[0;34m\"Speedup\"\u001b[0m\u001b[0;34m)\u001b[0m\u001b[0;34m\u001b[0m\u001b[0m\n\u001b[1;32m      5\u001b[0m \u001b[0max\u001b[0m\u001b[0;34m.\u001b[0m\u001b[0mlegend\u001b[0m\u001b[0;34m(\u001b[0m\u001b[0mloc\u001b[0m\u001b[0;34m=\u001b[0m\u001b[0;34m'best'\u001b[0m\u001b[0;34m)\u001b[0m\u001b[0;34m\u001b[0m\u001b[0m\n",
      "\u001b[0;31mIndexError\u001b[0m: list index out of range"
     ]
    }
   ],
   "source": [
    "a = (scheduling[0])\n",
    "ax = a.plot(style='o',title='Speedup of Electrical.N14_M14 matrix for different loop scheduling types')\n",
    "#plt.xticks(np.arange(1, 11, 1))\n",
    "ax.set(xlabel=\"Number of Threads\", ylabel=\"Speedup\")\n",
    "ax.legend(loc='best')\n",
    "plt.show()"
   ]
  },
  {
   "cell_type": "code",
   "execution_count": null,
   "metadata": {},
   "outputs": [],
   "source": []
  }
 ],
 "metadata": {
  "kernelspec": {
   "display_name": "Python 3",
   "language": "python",
   "name": "python3"
  },
  "language_info": {
   "codemirror_mode": {
    "name": "ipython",
    "version": 3
   },
   "file_extension": ".py",
   "mimetype": "text/x-python",
   "name": "python",
   "nbconvert_exporter": "python",
   "pygments_lexer": "ipython3",
   "version": "3.6.5"
  }
 },
 "nbformat": 4,
 "nbformat_minor": 2
}
