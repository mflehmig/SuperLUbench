{
 "cells": [
  {
   "cell_type": "code",
   "execution_count": 1,
   "metadata": {
    "collapsed": true
   },
   "outputs": [],
   "source": [
    "import pandas as pd\n",
    "\n",
    "# Plots with high resolution\n",
    "import matplotlib as mpl\n",
    "mpl.rcParams['figure.dpi']= 150"
   ]
  },
  {
   "cell_type": "markdown",
   "metadata": {},
   "source": [
    "# Benchmark Results and Evaluation"
   ]
  },
  {
   "cell_type": "markdown",
   "metadata": {},
   "source": [
    "## Configuration\n",
    "* Taurus Haswell Partition (in particular TAURUSI6596)\n",
    "* Modules:\n",
    "   * superlu/5.2.1\n",
    "   * intelmpi/2017.2.174\n",
    "   * superlu_dist/5.1.3\n",
    "   * superlu_mt/3.1\n",
    "   * intel/2017.2.174\n",
    "* --exclusive\n",
    "* No thread pinning, because ...\n",
    "    * it should not make a big differance in results\n",
    "    * end-users don't use it\n",
    "\n"
   ]
  },
  {
   "cell_type": "markdown",
   "metadata": {
    "collapsed": true
   },
   "source": [
    "**Weiter**\n",
    "    * Auswertung der restlichen Daten\n",
    "    * Diese müssen in einzelne CSV-Datein gepresst werden\n",
    "    * Findings aufschreiben\n",
    "    \n",
    "**Todo**    \n",
    "    * Auflösung der Plots verbessern"
   ]
  },
  {
   "cell_type": "markdown",
   "metadata": {},
   "source": [
    "## Result Analysis\n",
    "\n",
    "Some remarks\n",
    "* All runs where repeated R times (e.g., R=11)\n",
    "* Since the first run is in most cases way slower than the other runs, we ignore the first run\n",
    "* This is also called \"warm startup\", beacuse the data structures are allready in memory hierarchies"
   ]
  },
  {
   "cell_type": "markdown",
   "metadata": {},
   "source": [
    "Directory structure holding the csv files with the benchmark statistics."
   ]
  },
  {
   "cell_type": "code",
   "execution_count": 2,
   "metadata": {
    "collapsed": true
   },
   "outputs": [],
   "source": [
    "dir_60F=\"taurus_haswell/hqp3_60/Full\"\n",
    "dir_15F=\"taurus_haswell/hqp3_15/Full\"\n",
    "dir_60S=\"taurus_haswell/hqp3_60/Sp\"\n",
    "dir_15S=\"taurus_haswell/hqp3_15/Sp\""
   ]
  },
  {
   "cell_type": "markdown",
   "metadata": {},
   "source": [
    "### hqp3_60_Full"
   ]
  },
  {
   "cell_type": "markdown",
   "metadata": {},
   "source": [
    "#### SuperLU"
   ]
  },
  {
   "cell_type": "markdown",
   "metadata": {},
   "source": [
    "Read in the benchmark results for **SuperLU** and the various orderings."
   ]
  },
  {
   "cell_type": "code",
   "execution_count": 3,
   "metadata": {},
   "outputs": [],
   "source": [
    "slu_col = pd.read_csv(dir_60F+'/hqp3_60_Full_SuperLU_COLAMD.csv',skipinitialspace=True)"
   ]
  },
  {
   "cell_type": "code",
   "execution_count": 4,
   "metadata": {
    "collapsed": true
   },
   "outputs": [],
   "source": [
    "slu_nat = pd.read_csv(dir_60F+'/hqp3_60_Full_SuperLU_NATURAL.csv',skipinitialspace=True)"
   ]
  },
  {
   "cell_type": "code",
   "execution_count": 5,
   "metadata": {
    "collapsed": true
   },
   "outputs": [],
   "source": [
    "slu_ata = pd.read_csv(dir_60F+'/hqp3_60_Full_SuperLU_MMD_ATA.csv',skipinitialspace=True)"
   ]
  },
  {
   "cell_type": "code",
   "execution_count": 6,
   "metadata": {
    "collapsed": true
   },
   "outputs": [],
   "source": [
    "slu_usa = pd.read_csv(dir_60F+'/hqp3_60_Full_SuperLU_MMD_AT_PLUS_A.csv',skipinitialspace=True)"
   ]
  },
  {
   "cell_type": "code",
   "execution_count": 7,
   "metadata": {},
   "outputs": [
    {
     "data": {
      "text/html": [
       "<div>\n",
       "<style>\n",
       "    .dataframe thead tr:only-child th {\n",
       "        text-align: right;\n",
       "    }\n",
       "\n",
       "    .dataframe thead th {\n",
       "        text-align: left;\n",
       "    }\n",
       "\n",
       "    .dataframe tbody tr th {\n",
       "        vertical-align: top;\n",
       "    }\n",
       "</style>\n",
       "<table border=\"1\" class=\"dataframe\">\n",
       "  <thead>\n",
       "    <tr style=\"text-align: right;\">\n",
       "      <th></th>\n",
       "      <th>#Iter</th>\n",
       "      <th>info</th>\n",
       "      <th>#NNZ in L</th>\n",
       "      <th>#NNZ in U</th>\n",
       "      <th>LU MB</th>\n",
       "      <th>Total MB</th>\n",
       "      <th>Norm</th>\n",
       "      <th>RPG</th>\n",
       "      <th>RCN</th>\n",
       "      <th>dgssvx</th>\n",
       "    </tr>\n",
       "  </thead>\n",
       "  <tbody>\n",
       "    <tr>\n",
       "      <th>0</th>\n",
       "      <td>0</td>\n",
       "      <td>0</td>\n",
       "      <td>495102</td>\n",
       "      <td>706458</td>\n",
       "      <td>12.966</td>\n",
       "      <td>24.253</td>\n",
       "      <td>9.549530e-09</td>\n",
       "      <td>0.212632</td>\n",
       "      <td>3.707492e-07</td>\n",
       "      <td>287225</td>\n",
       "    </tr>\n",
       "    <tr>\n",
       "      <th>1</th>\n",
       "      <td>1</td>\n",
       "      <td>0</td>\n",
       "      <td>495102</td>\n",
       "      <td>706458</td>\n",
       "      <td>12.966</td>\n",
       "      <td>24.253</td>\n",
       "      <td>9.549530e-09</td>\n",
       "      <td>0.212632</td>\n",
       "      <td>3.707492e-07</td>\n",
       "      <td>213849</td>\n",
       "    </tr>\n",
       "    <tr>\n",
       "      <th>2</th>\n",
       "      <td>2</td>\n",
       "      <td>0</td>\n",
       "      <td>495102</td>\n",
       "      <td>706458</td>\n",
       "      <td>12.966</td>\n",
       "      <td>24.253</td>\n",
       "      <td>9.549530e-09</td>\n",
       "      <td>0.212632</td>\n",
       "      <td>3.707492e-07</td>\n",
       "      <td>210737</td>\n",
       "    </tr>\n",
       "    <tr>\n",
       "      <th>3</th>\n",
       "      <td>3</td>\n",
       "      <td>0</td>\n",
       "      <td>495102</td>\n",
       "      <td>706458</td>\n",
       "      <td>12.966</td>\n",
       "      <td>24.253</td>\n",
       "      <td>9.549530e-09</td>\n",
       "      <td>0.212632</td>\n",
       "      <td>3.707492e-07</td>\n",
       "      <td>222330</td>\n",
       "    </tr>\n",
       "    <tr>\n",
       "      <th>4</th>\n",
       "      <td>4</td>\n",
       "      <td>0</td>\n",
       "      <td>495102</td>\n",
       "      <td>706458</td>\n",
       "      <td>12.966</td>\n",
       "      <td>24.253</td>\n",
       "      <td>9.549530e-09</td>\n",
       "      <td>0.212632</td>\n",
       "      <td>3.707492e-07</td>\n",
       "      <td>222801</td>\n",
       "    </tr>\n",
       "  </tbody>\n",
       "</table>\n",
       "</div>"
      ],
      "text/plain": [
       "   #Iter  info  #NNZ in L  #NNZ in U   LU MB  Total MB          Norm  \\\n",
       "0      0     0     495102     706458  12.966    24.253  9.549530e-09   \n",
       "1      1     0     495102     706458  12.966    24.253  9.549530e-09   \n",
       "2      2     0     495102     706458  12.966    24.253  9.549530e-09   \n",
       "3      3     0     495102     706458  12.966    24.253  9.549530e-09   \n",
       "4      4     0     495102     706458  12.966    24.253  9.549530e-09   \n",
       "\n",
       "        RPG           RCN  dgssvx  \n",
       "0  0.212632  3.707492e-07  287225  \n",
       "1  0.212632  3.707492e-07  213849  \n",
       "2  0.212632  3.707492e-07  210737  \n",
       "3  0.212632  3.707492e-07  222330  \n",
       "4  0.212632  3.707492e-07  222801  "
      ]
     },
     "execution_count": 7,
     "metadata": {},
     "output_type": "execute_result"
    }
   ],
   "source": [
    "slu_col.head()"
   ]
  },
  {
   "cell_type": "code",
   "execution_count": 8,
   "metadata": {
    "scrolled": true
   },
   "outputs": [
    {
     "data": {
      "text/plain": [
       "0     287225\n",
       "1     213849\n",
       "2     210737\n",
       "3     222330\n",
       "4     222801\n",
       "5     220973\n",
       "6     221494\n",
       "7     222087\n",
       "8     211041\n",
       "9     209310\n",
       "10    209356\n",
       "Name: dgssvx, dtype: int64"
      ]
     },
     "execution_count": 8,
     "metadata": {},
     "output_type": "execute_result"
    }
   ],
   "source": [
    "slu_col['dgssvx']"
   ]
  },
  {
   "cell_type": "code",
   "execution_count": 9,
   "metadata": {},
   "outputs": [
    {
     "data": {
      "text/html": [
       "<div>\n",
       "<style>\n",
       "    .dataframe thead tr:only-child th {\n",
       "        text-align: right;\n",
       "    }\n",
       "\n",
       "    .dataframe thead th {\n",
       "        text-align: left;\n",
       "    }\n",
       "\n",
       "    .dataframe tbody tr th {\n",
       "        vertical-align: top;\n",
       "    }\n",
       "</style>\n",
       "<table border=\"1\" class=\"dataframe\">\n",
       "  <thead>\n",
       "    <tr style=\"text-align: right;\">\n",
       "      <th></th>\n",
       "      <th>#Iter</th>\n",
       "      <th>info</th>\n",
       "      <th>#NNZ in L</th>\n",
       "      <th>#NNZ in U</th>\n",
       "      <th>LU MB</th>\n",
       "      <th>Total MB</th>\n",
       "      <th>Norm</th>\n",
       "      <th>RPG</th>\n",
       "      <th>RCN</th>\n",
       "      <th>dgssvx</th>\n",
       "    </tr>\n",
       "  </thead>\n",
       "  <tbody>\n",
       "    <tr>\n",
       "      <th>count</th>\n",
       "      <td>11.000000</td>\n",
       "      <td>11.0</td>\n",
       "      <td>11.0</td>\n",
       "      <td>11.0</td>\n",
       "      <td>1.100000e+01</td>\n",
       "      <td>1.100000e+01</td>\n",
       "      <td>1.100000e+01</td>\n",
       "      <td>1.100000e+01</td>\n",
       "      <td>1.100000e+01</td>\n",
       "      <td>11.000000</td>\n",
       "    </tr>\n",
       "    <tr>\n",
       "      <th>mean</th>\n",
       "      <td>5.000000</td>\n",
       "      <td>0.0</td>\n",
       "      <td>495102.0</td>\n",
       "      <td>706458.0</td>\n",
       "      <td>1.296600e+01</td>\n",
       "      <td>2.425300e+01</td>\n",
       "      <td>9.549530e-09</td>\n",
       "      <td>2.126318e-01</td>\n",
       "      <td>3.707492e-07</td>\n",
       "      <td>222836.636364</td>\n",
       "    </tr>\n",
       "    <tr>\n",
       "      <th>std</th>\n",
       "      <td>3.316625</td>\n",
       "      <td>0.0</td>\n",
       "      <td>0.0</td>\n",
       "      <td>0.0</td>\n",
       "      <td>1.863059e-15</td>\n",
       "      <td>3.726118e-15</td>\n",
       "      <td>1.735109e-24</td>\n",
       "      <td>2.911029e-17</td>\n",
       "      <td>5.552348e-23</td>\n",
       "      <td>22097.444157</td>\n",
       "    </tr>\n",
       "    <tr>\n",
       "      <th>min</th>\n",
       "      <td>0.000000</td>\n",
       "      <td>0.0</td>\n",
       "      <td>495102.0</td>\n",
       "      <td>706458.0</td>\n",
       "      <td>1.296600e+01</td>\n",
       "      <td>2.425300e+01</td>\n",
       "      <td>9.549530e-09</td>\n",
       "      <td>2.126318e-01</td>\n",
       "      <td>3.707492e-07</td>\n",
       "      <td>209310.000000</td>\n",
       "    </tr>\n",
       "    <tr>\n",
       "      <th>25%</th>\n",
       "      <td>2.500000</td>\n",
       "      <td>0.0</td>\n",
       "      <td>495102.0</td>\n",
       "      <td>706458.0</td>\n",
       "      <td>1.296600e+01</td>\n",
       "      <td>2.425300e+01</td>\n",
       "      <td>9.549530e-09</td>\n",
       "      <td>2.126318e-01</td>\n",
       "      <td>3.707492e-07</td>\n",
       "      <td>210889.000000</td>\n",
       "    </tr>\n",
       "    <tr>\n",
       "      <th>50%</th>\n",
       "      <td>5.000000</td>\n",
       "      <td>0.0</td>\n",
       "      <td>495102.0</td>\n",
       "      <td>706458.0</td>\n",
       "      <td>1.296600e+01</td>\n",
       "      <td>2.425300e+01</td>\n",
       "      <td>9.549530e-09</td>\n",
       "      <td>2.126318e-01</td>\n",
       "      <td>3.707492e-07</td>\n",
       "      <td>220973.000000</td>\n",
       "    </tr>\n",
       "    <tr>\n",
       "      <th>75%</th>\n",
       "      <td>7.500000</td>\n",
       "      <td>0.0</td>\n",
       "      <td>495102.0</td>\n",
       "      <td>706458.0</td>\n",
       "      <td>1.296600e+01</td>\n",
       "      <td>2.425300e+01</td>\n",
       "      <td>9.549530e-09</td>\n",
       "      <td>2.126318e-01</td>\n",
       "      <td>3.707492e-07</td>\n",
       "      <td>222208.500000</td>\n",
       "    </tr>\n",
       "    <tr>\n",
       "      <th>max</th>\n",
       "      <td>10.000000</td>\n",
       "      <td>0.0</td>\n",
       "      <td>495102.0</td>\n",
       "      <td>706458.0</td>\n",
       "      <td>1.296600e+01</td>\n",
       "      <td>2.425300e+01</td>\n",
       "      <td>9.549530e-09</td>\n",
       "      <td>2.126318e-01</td>\n",
       "      <td>3.707492e-07</td>\n",
       "      <td>287225.000000</td>\n",
       "    </tr>\n",
       "  </tbody>\n",
       "</table>\n",
       "</div>"
      ],
      "text/plain": [
       "           #Iter  info  #NNZ in L  #NNZ in U         LU MB      Total MB  \\\n",
       "count  11.000000  11.0       11.0       11.0  1.100000e+01  1.100000e+01   \n",
       "mean    5.000000   0.0   495102.0   706458.0  1.296600e+01  2.425300e+01   \n",
       "std     3.316625   0.0        0.0        0.0  1.863059e-15  3.726118e-15   \n",
       "min     0.000000   0.0   495102.0   706458.0  1.296600e+01  2.425300e+01   \n",
       "25%     2.500000   0.0   495102.0   706458.0  1.296600e+01  2.425300e+01   \n",
       "50%     5.000000   0.0   495102.0   706458.0  1.296600e+01  2.425300e+01   \n",
       "75%     7.500000   0.0   495102.0   706458.0  1.296600e+01  2.425300e+01   \n",
       "max    10.000000   0.0   495102.0   706458.0  1.296600e+01  2.425300e+01   \n",
       "\n",
       "               Norm           RPG           RCN         dgssvx  \n",
       "count  1.100000e+01  1.100000e+01  1.100000e+01      11.000000  \n",
       "mean   9.549530e-09  2.126318e-01  3.707492e-07  222836.636364  \n",
       "std    1.735109e-24  2.911029e-17  5.552348e-23   22097.444157  \n",
       "min    9.549530e-09  2.126318e-01  3.707492e-07  209310.000000  \n",
       "25%    9.549530e-09  2.126318e-01  3.707492e-07  210889.000000  \n",
       "50%    9.549530e-09  2.126318e-01  3.707492e-07  220973.000000  \n",
       "75%    9.549530e-09  2.126318e-01  3.707492e-07  222208.500000  \n",
       "max    9.549530e-09  2.126318e-01  3.707492e-07  287225.000000  "
      ]
     },
     "execution_count": 9,
     "metadata": {},
     "output_type": "execute_result"
    }
   ],
   "source": [
    "slu_col.describe(include='all')"
   ]
  },
  {
   "cell_type": "code",
   "execution_count": 10,
   "metadata": {},
   "outputs": [
    {
     "ename": "NameError",
     "evalue": "name 'plt' is not defined",
     "output_type": "error",
     "traceback": [
      "\u001b[0;31m---------------------------------------------------------------------------\u001b[0m",
      "\u001b[0;31mNameError\u001b[0m                                 Traceback (most recent call last)",
      "\u001b[0;32m<ipython-input-10-deea625f27c0>\u001b[0m in \u001b[0;36m<module>\u001b[0;34m()\u001b[0m\n\u001b[1;32m      1\u001b[0m \u001b[0mslu_col\u001b[0m\u001b[0;34m.\u001b[0m\u001b[0mplot\u001b[0m\u001b[0;34m(\u001b[0m\u001b[0mx\u001b[0m\u001b[0;34m=\u001b[0m\u001b[0;34m'#Iter'\u001b[0m\u001b[0;34m,\u001b[0m \u001b[0my\u001b[0m\u001b[0;34m=\u001b[0m\u001b[0;34m'dgssvx'\u001b[0m\u001b[0;34m,\u001b[0m \u001b[0mstyle\u001b[0m\u001b[0;34m=\u001b[0m\u001b[0;34m'o'\u001b[0m\u001b[0;34m)\u001b[0m\u001b[0;34m\u001b[0m\u001b[0m\n\u001b[0;32m----> 2\u001b[0;31m \u001b[0mplt\u001b[0m\u001b[0;34m.\u001b[0m\u001b[0mshow\u001b[0m\u001b[0;34m(\u001b[0m\u001b[0;34m)\u001b[0m\u001b[0;34m\u001b[0m\u001b[0m\n\u001b[0m",
      "\u001b[0;31mNameError\u001b[0m: name 'plt' is not defined"
     ]
    }
   ],
   "source": [
    "slu_col.plot(x='#Iter', y='dgssvx', style='o')\n",
    "plt.show()"
   ]
  },
  {
   "cell_type": "code",
   "execution_count": null,
   "metadata": {},
   "outputs": [],
   "source": [
    "# Okay, here come two ways to plot the timings\n",
    "# \n",
    "# 1. Way:\n",
    "#    But how to divide values by 1000 to get timings in [ms]?\n",
    "slu_nat[1:10].plot(x='#Iter', y='dgssvx', style='o')\n",
    "plt.show()"
   ]
  },
  {
   "cell_type": "code",
   "execution_count": null,
   "metadata": {},
   "outputs": [],
   "source": [
    "# 2. Way:\n",
    "a = (slu_nat['dgssvx'])[1:11]/1000\n",
    "ax = a.plot(style='o',title='Title')\n",
    "ax.set(xlabel=\"x label\", ylabel=\"y label\")\n",
    "plt.show()"
   ]
  },
  {
   "cell_type": "markdown",
   "metadata": {},
   "source": [
    "---"
   ]
  },
  {
   "cell_type": "markdown",
   "metadata": {},
   "source": [
    "Let's gather the statistical values for the obtained timings (in ms)."
   ]
  },
  {
   "cell_type": "code",
   "execution_count": null,
   "metadata": {
    "collapsed": true
   },
   "outputs": [],
   "source": [
    "# Lower and upper index bound.\n",
    "# Since we have 11 runs, we omit the results from the very first.\n",
    "l=1\n",
    "u=11"
   ]
  },
  {
   "cell_type": "code",
   "execution_count": null,
   "metadata": {
    "collapsed": true
   },
   "outputs": [],
   "source": [
    "slu_nat_tstats = [(slu_nat['dgssvx'])[l:u].mean()/1000,\n",
    "                  (slu_nat['dgssvx'])[l:u].max()/1000,\n",
    "                  (slu_nat['dgssvx'])[l:u].min()/1000,\n",
    "                  (slu_nat['dgssvx'])[l:u].std()/1000 ]\n",
    "slu_col_tstats = [(slu_col['dgssvx'])[l:u].mean()/1000,\n",
    "                  (slu_col['dgssvx'])[l:u].max()/1000,\n",
    "                  (slu_col['dgssvx'])[l:u].min()/1000,\n",
    "                  (slu_col['dgssvx'])[l:u].std()/1000 ]\n",
    "slu_ata_tstats = [(slu_ata['dgssvx'])[l:u].mean()/1000,\n",
    "                  (slu_ata['dgssvx'])[l:u].max()/1000,\n",
    "                  (slu_ata['dgssvx'])[l:u].min()/1000,\n",
    "                  (slu_ata['dgssvx'])[l:u].std()/1000 ]\n",
    "slu_usa_tstats = [(slu_usa['dgssvx'])[l:u].mean()/1000,\n",
    "                  (slu_usa['dgssvx'])[l:u].max()/1000,\n",
    "                  (slu_usa['dgssvx'])[l:u].min()/1000,\n",
    "                  (slu_usa['dgssvx'])[l:u].std()/1000 ]"
   ]
  },
  {
   "cell_type": "code",
   "execution_count": null,
   "metadata": {},
   "outputs": [],
   "source": [
    "ind = ['Mean', 'Max', 'Min', 'Std']\n",
    "d = {'NATURAL': slu_nat_tstats,\n",
    "     'COLAMD' : slu_col_tstats,\n",
    "     'MMD_ATA' : slu_ata_tstats,\n",
    "     'MMD_AT_PLUS_A' : slu_usa_tstats\n",
    "    }\n",
    "df = pd.DataFrame(data=d, index=ind)\n",
    "df = df[['COLAMD', 'NATURAL', 'MMD_ATA', 'MMD_AT_PLUS_A']] # Order columns in my way (not alphabetically)\n",
    "df"
   ]
  },
  {
   "cell_type": "code",
   "execution_count": null,
   "metadata": {},
   "outputs": [],
   "source": [
    "best_serial_time = min(slu_col_stats[0],slu_nat_stats[0],slu_ata_stats[0],slu_usa_stats[0])\n",
    "print(\"Best serial time [ms]: \", best_serial_time)"
   ]
  },
  {
   "cell_type": "markdown",
   "metadata": {},
   "source": [
    "What about memory consumption (in MB)?"
   ]
  },
  {
   "cell_type": "code",
   "execution_count": null,
   "metadata": {},
   "outputs": [],
   "source": [
    "slu_nat_mstats = [(slu_nat['Total MB'])[l:u].mean(),\n",
    "                  (slu_nat['LU MB'])[l:u].mean()    ]\n",
    "slu_col_mstats = [(slu_col['Total MB'])[l:u].mean(),\n",
    "                  (slu_col['LU MB'])[l:u].mean()    ]\n",
    "slu_ata_mstats = [(slu_ata['Total MB'])[l:u].mean(),\n",
    "                  (slu_ata['LU MB'])[l:u].mean()    ]\n",
    "slu_usa_mstats = [(slu_usa['Total MB'])[l:u].mean(),\n",
    "                  (slu_usa['LU MB'])[l:u].mean()    ]"
   ]
  },
  {
   "cell_type": "code",
   "execution_count": null,
   "metadata": {
    "scrolled": true
   },
   "outputs": [],
   "source": [
    "ind = ['Total', 'L\\U']\n",
    "d = {'NATURAL': slu_nat_mstats,\n",
    "     'COLAMD' : slu_col_mstats,\n",
    "     'MMD_ATA' : slu_ata_mstats,\n",
    "     'MMD_AT_PLUS_A' : slu_usa_mstats\n",
    "    }\n",
    "df = pd.DataFrame(data=d, index=ind)\n",
    "df = df[['COLAMD', 'NATURAL', 'MMD_ATA', 'MMD_AT_PLUS_A']] # Order columns in my way (not alphabetically)\n",
    "df"
   ]
  },
  {
   "cell_type": "markdown",
   "metadata": {},
   "source": [
    "**Findings:**\n",
    "* COLAMD, which is the default option, yields the fastest timings with reasonable small memory footprint\n",
    "* MMD_ATA is a bit off with respect to timing and has a little bit smaller memory footprint compared to COLAMD\n",
    "* NATURAL is off in both statistics\n",
    "* MMD_AT_PLUS_A is way off in timing, but reasonable in memory footprint"
   ]
  },
  {
   "cell_type": "markdown",
   "metadata": {},
   "source": [
    "---"
   ]
  },
  {
   "cell_type": "markdown",
   "metadata": {},
   "source": [
    "#### SuperLU_MT"
   ]
  },
  {
   "cell_type": "code",
   "execution_count": null,
   "metadata": {},
   "outputs": [],
   "source": [
    "def get_tstats(df, spec, runs=11):\n",
    "    \"\"\"\"Compute timing statistics for a data_frame.\n",
    "        Omit first run for every thread.\n",
    "        Assume the runs for a fixed number of threads are seperated by empty line from each other.\n",
    "        Assume also consecutive scaling of threads (see for loop).\n",
    "\n",
    "    Args:\n",
    "        df (pandas.dataFrame): \n",
    "        spec (str): Column specifier\n",
    "        runs (int, optional): Number of runs for a fixed number of threads.\n",
    "\n",
    "    Returns:\n",
    "        List of speedups.\n",
    "    \"\"\"\n",
    "    ret = []\n",
    "    threads = []\n",
    "    l = 1;\n",
    "    u = l+runs-2\n",
    "    for i in range(int(df['#Threads'].min()), int(df['#Threads'].max())+1):\n",
    "        threads.append(i)\n",
    "        mean = df[spec][l:u].mean()\n",
    "        mini = df[spec][l:u].min()\n",
    "        maxi = df[spec][l:u].max()\n",
    "        std = df[spec][l:u].std()\n",
    "        ret.append([mean, mini, maxi, std])\n",
    "        # Update l and u\n",
    "        l += runs+1\n",
    "        u = l+runs-2\n",
    "    return threads,ret"
   ]
  },
  {
   "cell_type": "markdown",
   "metadata": {},
   "source": [
    "Read in the csv files holding the statistics."
   ]
  },
  {
   "cell_type": "code",
   "execution_count": null,
   "metadata": {},
   "outputs": [],
   "source": [
    "slumt_col = pd.read_csv(dir_60F+'/hqp3_60_Full_SuperLU_MT_COLAMD.csv',skipinitialspace=True)\n",
    "#slumt_nat = pd.read_csv('hqp3_60_Full_SuperLU_MT_NATURAL.csv',skipinitialspace=True)\n",
    "slumt_ata = pd.read_csv(dir_60F+'/hqp3_60_Full_SuperLU_MT_MMD_ATA.csv',skipinitialspace=True)\n",
    "slumt_usa = pd.read_csv(dir_60F+'/hqp3_60_Full_SuperLU_MT_MMD_AT_PLUS_A.csv',skipinitialspace=True)"
   ]
  },
  {
   "cell_type": "markdown",
   "metadata": {},
   "source": [
    "Okay, we want the timings in ms."
   ]
  },
  {
   "cell_type": "code",
   "execution_count": null,
   "metadata": {},
   "outputs": [],
   "source": [
    "slumt_col['pdgssvx'] = slumt_col['pdgssvx'] / 1000\n",
    "slumt_ata['pdgssvx'] = slumt_ata['pdgssvx'] / 1000\n",
    "slumt_usa['pdgssvx'] = slumt_usa['pdgssvx'] / 1000"
   ]
  },
  {
   "cell_type": "markdown",
   "metadata": {},
   "source": [
    "Gather timing statistics for SuperLU_MT: mean, std, min and max."
   ]
  },
  {
   "cell_type": "code",
   "execution_count": null,
   "metadata": {},
   "outputs": [],
   "source": [
    "(threads,slumt_col_tstats) = get_tstats(slumt_col, 'pdgssvx', 11)\n",
    "(threads,slumt_ata_tstats) = get_tstats(slumt_ata, 'pdgssvx', 11)\n",
    "(threads,slumt_usa_tstats) = get_tstats(slumt_usa, 'pdgssvx', 11)"
   ]
  },
  {
   "cell_type": "code",
   "execution_count": null,
   "metadata": {},
   "outputs": [],
   "source": [
    "# All first items in slumt_col_tstats of type list(list)\n",
    "#lst = [item[0] for item in slumt_col_tstats]\n",
    "plt.plot(threads, [item[0] for item in slumt_col_tstats], 'bs', label=\"MMD_COLAMD\" )\n",
    "plt.plot(threads, [item[0] for item in slumt_ata_tstats], 'r--', label=\"MMD_ATA\" )\n",
    "plt.plot(threads, [item[0] for item in slumt_usa_tstats], 'g^', label=\"MMD_AT_PLUS_A\" )\n",
    "plt.ylabel('Runtime [ms]')\n",
    "plt.xlabel('# Threads')\n",
    "legend = plt.legend(loc='best')\n",
    "plt.title('Mean runtime for SuperLU_MT::pdgssvx().')\n",
    "plt.show()"
   ]
  },
  {
   "cell_type": "markdown",
   "metadata": {},
   "source": [
    "Have a look at the speedups for the various orderings."
   ]
  },
  {
   "cell_type": "code",
   "execution_count": null,
   "metadata": {},
   "outputs": [],
   "source": [
    "def get_speedups(tstats, t1=None):\n",
    "    \"\"\"\"Return speedups for a given list of timing statistics (mean time over #threads).\n",
    "\n",
    "    Args:\n",
    "        tstats (list): Timing statistics\n",
    "        t1 (float, optional): Serial time to refer the speedup to. If not given, we use the runtime using 1 thread.\n",
    "\n",
    "    Returns:\n",
    "        List of speedups.\n",
    "    \"\"\"\n",
    "    sp = []\n",
    "    if t1 is None:\n",
    "        t1 = tstats[0][0] # Time for serial run\n",
    "    # Todo: Check that provided t1 is a numerical value > 0.\n",
    "    for i in [item[0] for item in tstats]:\n",
    "        #print(i)\n",
    "        sp.append(t1/i)\n",
    "    \n",
    "    return sp"
   ]
  },
  {
   "cell_type": "code",
   "execution_count": null,
   "metadata": {},
   "outputs": [],
   "source": [
    "%%time\n",
    "sp_col = get_speedups(slumt_col_tstats, best_serial_time)\n",
    "sp_ata = get_speedups(slumt_ata_tstats, best_serial_time)\n",
    "sp_usa = get_speedups(slumt_usa_tstats, best_serial_time)"
   ]
  },
  {
   "cell_type": "code",
   "execution_count": null,
   "metadata": {},
   "outputs": [],
   "source": [
    "plt.plot(threads, sp_col, 'bs', label=\"COLAMD\")\n",
    "plt.plot(threads, sp_ata, 'r--', label=\"MMD_ATA\")\n",
    "plt.plot(threads, sp_usa, 'g^', label=\"MMD_AT_PLUS_A\")\n",
    "plt.ylabel('Speedup')\n",
    "plt.xlabel('# Threads')\n",
    "legend = plt.legend(loc='best')\n",
    "plt.title('Speedup for SuperLU_MT::pdgssvx() with respect to best serial time from SuperLU.')\n",
    "plt.show()"
   ]
  },
  {
   "cell_type": "markdown",
   "metadata": {},
   "source": [
    "Have a look at the total memory consumption for SuperLU_MT. Remark: The memory consumption for the L\\U decomposition can be plotted the very same way. Since it scales linear with the number of threads, too, we do not plot it. "
   ]
  },
  {
   "cell_type": "code",
   "execution_count": null,
   "metadata": {},
   "outputs": [],
   "source": [
    "(_, slumt_col_mstats) = get_tstats(slumt_col, 'Total MB', 11)\n",
    "(_, slumt_ata_mstats) = get_tstats(slumt_ata, 'Total MB', 11)\n",
    "(_, slumt_usa_mstats) = get_tstats(slumt_usa, 'Total MB', 11)"
   ]
  },
  {
   "cell_type": "code",
   "execution_count": null,
   "metadata": {
    "scrolled": false
   },
   "outputs": [],
   "source": [
    "# All first items in slumt_col_tstats of type list(list)\n",
    "#lst = [item[0] for item in slumt_col_tstats]\n",
    "plt.plot(threads, [item[0] for item in slumt_col_mstats], 'bs', label=\"MMD_COLAMD\" )\n",
    "plt.plot(threads, [item[0] for item in slumt_ata_mstats], 'r--', label=\"MMD_ATA\" )\n",
    "plt.plot(threads, [item[0] for item in slumt_usa_mstats], 'g^', label=\"MMD_AT_PLUS_A\" )\n",
    "plt.ylabel('Memory [MB]')\n",
    "plt.xlabel('# Threads')\n",
    "legend = plt.legend(loc='best')\n",
    "plt.title('Total memory consumption for SuperLU_MT::pdgssvx().')\n",
    "plt.show()"
   ]
  },
  {
   "cell_type": "markdown",
   "metadata": {},
   "source": [
    "**Findings:**\n",
    "* COLAMD yields the fastest timings to solve the system\n",
    "  * It scales very reasonable up to 8 threads\n",
    "* Memory consumption scales linear with the number of threads. This holds for all ordering algorithms.\n",
    "  * MMD_AT_PLUS_A requests a (constant) additional amount of memory compared to COLAMD and MMD_ATA\n",
    "\n",
    "\n",
    "# TODO\n",
    "* Box plots oder violin plots für SLUMT\n",
    "* Dist auswerten"
   ]
  },
  {
   "cell_type": "markdown",
   "metadata": {},
   "source": [
    "----"
   ]
  },
  {
   "cell_type": "markdown",
   "metadata": {},
   "source": [
    "# SuperLU_DIST"
   ]
  },
  {
   "cell_type": "markdown",
   "metadata": {},
   "source": [
    "Yeah, this will take some time since we have a additional dimension due to 2d process grid"
   ]
  },
  {
   "cell_type": "code",
   "execution_count": null,
   "metadata": {
    "collapsed": true
   },
   "outputs": [],
   "source": []
  },
  {
   "cell_type": "code",
   "execution_count": null,
   "metadata": {
    "collapsed": true
   },
   "outputs": [],
   "source": []
  },
  {
   "cell_type": "markdown",
   "metadata": {},
   "source": [
    "Boxplot of the timings for ordering COLAMD over all threads. This plot is not very usefull, is it?\n",
    "It ca be seen some kind of scaling (but for this a plot of the speedup would be better) and that the variance of the inividual runs is very small."
   ]
  },
  {
   "cell_type": "code",
   "execution_count": null,
   "metadata": {},
   "outputs": [],
   "source": [
    "ax = sns.boxplot(x=\"#Threads\", y=\"pdgssvx\", data=slumt_col, showfliers=False)\n",
    "sns.plt.show()"
   ]
  },
  {
   "cell_type": "markdown",
   "metadata": {},
   "source": [
    "Boxplot for ordering COLAMD and 1 thread. Just as example."
   ]
  },
  {
   "cell_type": "code",
   "execution_count": null,
   "metadata": {
    "scrolled": true
   },
   "outputs": [],
   "source": [
    "xx=slumt_col[1:11]\n",
    "ax = sns.boxplot(x=\"#Threads\", y=\"pdgssvx\", data=xx)\n",
    "sns.plt.show()"
   ]
  },
  {
   "cell_type": "code",
   "execution_count": null,
   "metadata": {},
   "outputs": [],
   "source": [
    "#Boxplots https://matplotlib.org/examples/pylab_examples/boxplot_demo.html\n",
    "spread = np.random.rand(50) * 100\n",
    "center = np.ones(25) * 50\n",
    "flier_high = np.random.rand(10) * 100 + 100\n",
    "flier_low = np.random.rand(10) * -100\n",
    "data = np.concatenate((spread, center, flier_high, flier_low), 0)\n",
    "type(data)\n",
    "# basic plot\n",
    "#plt.boxplot(data)\n",
    "#plt.show()"
   ]
  },
  {
   "cell_type": "code",
   "execution_count": null,
   "metadata": {
    "collapsed": true
   },
   "outputs": [],
   "source": []
  },
  {
   "cell_type": "code",
   "execution_count": null,
   "metadata": {
    "collapsed": true
   },
   "outputs": [],
   "source": []
  },
  {
   "cell_type": "code",
   "execution_count": null,
   "metadata": {
    "collapsed": true
   },
   "outputs": [],
   "source": []
  },
  {
   "cell_type": "code",
   "execution_count": null,
   "metadata": {
    "collapsed": true
   },
   "outputs": [],
   "source": []
  },
  {
   "cell_type": "markdown",
   "metadata": {},
   "source": [
    "Zwischenablage- brauchen wir das noch?"
   ]
  },
  {
   "cell_type": "code",
   "execution_count": null,
   "metadata": {},
   "outputs": [],
   "source": [
    "# Since we have a scaled number of threads, we are only interested in mean timing in the first step\n",
    "ind = range(1, 13)\n",
    "d = {'Mean' : list(zip(*slumt_col_tstats))[0],\n",
    "    # 'MMD_ATA' : slu_ata_tstats,\n",
    "    # 'MMD_AT_PLUS_A' : slu_usa_tstats\n",
    "    }\n",
    "df = pd.DataFrame(data=d, index=ind)\n",
    "#df = df[['COLAMD', 'MMD_ATA', 'MMD_AT_PLUS_A']] # Order columns in my way (not alphabetically)\n",
    "df\n"
   ]
  },
  {
   "cell_type": "code",
   "execution_count": null,
   "metadata": {
    "collapsed": true
   },
   "outputs": [],
   "source": []
  },
  {
   "cell_type": "code",
   "execution_count": null,
   "metadata": {
    "collapsed": true
   },
   "outputs": [],
   "source": []
  }
 ],
 "metadata": {
  "kernelspec": {
   "display_name": "Python 2",
   "language": "python",
   "name": "python2"
  },
  "language_info": {
   "codemirror_mode": {
    "name": "ipython",
    "version": 2
   },
   "file_extension": ".py",
   "mimetype": "text/x-python",
   "name": "python",
   "nbconvert_exporter": "python",
   "pygments_lexer": "ipython2",
   "version": "2.7.14"
  }
 },
 "nbformat": 4,
 "nbformat_minor": 2
}
